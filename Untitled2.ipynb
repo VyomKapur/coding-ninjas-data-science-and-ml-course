{
 "cells": [
  {
   "cell_type": "code",
   "execution_count": 9,
   "id": "f8f943a7",
   "metadata": {},
   "outputs": [],
   "source": [
    "import requests"
   ]
  },
  {
   "cell_type": "code",
   "execution_count": 8,
   "id": "70caf9f2",
   "metadata": {},
   "outputs": [
    {
     "name": "stdout",
     "output_type": "stream",
     "text": [
      "https://api.themoviedb.org/3/movie/27205/similar?api_key=d01ca9dc3e86ed3cac80146a6a3d6789&language=en-US\n",
      "Gone Baby Gone\n",
      "Fantastic Four: Rise of the Silver Surfer\n",
      "Lucía y el sexo\n",
      "Perfume: The Story of a Murderer\n",
      "Bandits\n"
     ]
    }
   ],
   "source": [
    "p = requests.get('https://api.themoviedb.org/3/search/movie', params={'api_key': 'd01ca9dc3e86ed3cac80146a6a3d6789', 'query':'Inception'} )\n",
    "m_id = p.json()['results'][0]['id']\n",
    "print(m_id)\n",
    "\n",
    "m = requests.get(\"https://api.themoviedb.org/3/movie/\"+str(m_id)+\"/similar\", params={'api_key': 'd01ca9dc3e86ed3cac80146a6a3d6789', 'language':'en-US'})\n",
    "print(m.url)\n",
    "for i in range(5):\n",
    "    print(m.json()['results'][i]['original_title'])"
   ]
  },
  {
   "cell_type": "code",
   "execution_count": 18,
   "id": "c735aef0",
   "metadata": {},
   "outputs": [
    {
     "name": "stdout",
     "output_type": "stream",
     "text": [
      "224513\n",
      "Ana de Armas - Santa Cruz del Norte, Cuba\n"
     ]
    }
   ],
   "source": [
    "p = requests.get('https://api.themoviedb.org/3/person/popular', params={'api_key': 'd01ca9dc3e86ed3cac80146a6a3d6789'} )\n",
    "p_id = str(p.json()['results'][0]['id'])\n",
    "print(p_id)\n",
    "m = requests.get('https://api.themoviedb.org/3/person/'+p_id,  params={'api_key': 'd01ca9dc3e86ed3cac80146a6a3d6789'})\n",
    "print(m.json()['name'], \"-\",m.json()['place_of_birth'])"
   ]
  },
  {
   "cell_type": "code",
   "execution_count": 22,
   "id": "3a2e8f53",
   "metadata": {},
   "outputs": [
    {
     "name": "stdout",
     "output_type": "stream",
     "text": [
      "aliaabhatt Aliaa08\n"
     ]
    }
   ],
   "source": [
    "p = requests.get('https://api.themoviedb.org/3/search/person', params={'api_key': 'd01ca9dc3e86ed3cac80146a6a3d6789', 'query': 'Alia Bhatt'})\n",
    "p_id = str(p.json()['results'][0]['id'])\n",
    "m = requests.get('https://api.themoviedb.org/3/person/'+p_id+'/external_ids',  params={'api_key': 'd01ca9dc3e86ed3cac80146a6a3d6789'})\n",
    "print(m.json()['instagram_id'], m.json()['twitter_id'])"
   ]
  },
  {
   "cell_type": "code",
   "execution_count": 39,
   "id": "54c82fb1",
   "metadata": {},
   "outputs": [
    {
     "name": "stdout",
     "output_type": "stream",
     "text": [
      "Lt. Pete 'Maverick' Mitchell\n",
      "Ethan Hunt\n",
      "Chief John Anderton\n",
      "Maj. William 'Bill' Cage\n"
     ]
    }
   ],
   "source": [
    "p = requests.get('https://api.themoviedb.org/3/search/person', params={'api_key': 'd01ca9dc3e86ed3cac80146a6a3d6789', 'query': 'Tom Cruise'})\n",
    "p_id = str(p.json()['results'][0]['id'])\n",
    "m = requests.get('https://api.themoviedb.org/3/person/'+p_id+'/movie_credits',  params={'api_key': 'd01ca9dc3e86ed3cac80146a6a3d6789'})\n",
    "d  = {'Top Gun': \"\", 'Mission: Impossible - Fallout': \"\", 'Minority Report': \"\",'Edge of Tomorrow': \"\"}\n",
    "movies = list(d.keys())\n",
    "for i in m.json()['cast']:\n",
    "    if i['original_title'] in movies:\n",
    "        d[i['original_title']] = i['character'] \n",
    "l = list(d.values())\n",
    "for i in l:\n",
    "    print(i)"
   ]
  },
  {
   "cell_type": "code",
   "execution_count": 40,
   "id": "ff2e88bd",
   "metadata": {},
   "outputs": [
    {
     "name": "stdout",
     "output_type": "stream",
     "text": [
      "Yes\n"
     ]
    }
   ],
   "source": [
    "p = requests.get('https://api.themoviedb.org/3/search/person', params={'api_key': 'd01ca9dc3e86ed3cac80146a6a3d6789', 'query': 'James McAvoy'})\n",
    "p_id = str(p.json()['results'][0]['id'])\n",
    "m = requests.get('https://api.themoviedb.org/3/person/'+p_id+'/movie_credits',  params={'api_key': 'd01ca9dc3e86ed3cac80146a6a3d6789'})\n",
    "flag = False\n",
    "for i in m.json()['cast']:\n",
    "    if i['original_title'] == \"Deadpool 2\":\n",
    "        flag = True\n",
    "        \n",
    "if flag:\n",
    "    print(\"Yes\")\n",
    "else:\n",
    "    print(\"No\")"
   ]
  },
  {
   "cell_type": "code",
   "execution_count": 45,
   "id": "22edd19a",
   "metadata": {},
   "outputs": [
    {
     "name": "stdout",
     "output_type": "stream",
     "text": [
      "{'adult': False, 'gender': 2, 'id': 5530, 'known_for_department': 'Acting', 'name': 'James McAvoy', 'original_name': 'James McAvoy', 'popularity': 32.154, 'profile_path': '/vB6qYlFXgONGVwwxWXE4gf0F8SQ.jpg', 'cast_id': 268, 'character': 'Charles Xavier (uncredited)', 'credit_id': '5dff991126dac1001762a68f', 'order': 62}\n",
      "Yes\n"
     ]
    }
   ],
   "source": [
    "##/movie/{movie_id}/credits\n",
    "p = requests.get('https://api.themoviedb.org/3/search/movie', params={'api_key': 'd01ca9dc3e86ed3cac80146a6a3d6789', 'query': 'Deadpool 2'})\n",
    "p_id = str(p.json()['results'][0]['id'])\n",
    "m = requests.get('https://api.themoviedb.org/3/movie/'+p_id+'/credits',  params={'api_key': 'd01ca9dc3e86ed3cac80146a6a3d6789'})\n",
    "flag = False\n",
    "for i in m.json()['cast']:\n",
    "    if \"James McAvoy\" in i['name']:\n",
    "        print(i)\n",
    "        flag = True\n",
    "if flag:\n",
    "    print('Yes')\n",
    "else:\n",
    "    print(\"No\")"
   ]
  },
  {
   "cell_type": "code",
   "execution_count": 47,
   "id": "aa97bb62",
   "metadata": {},
   "outputs": [
    {
     "name": "stdout",
     "output_type": "stream",
     "text": [
      "Friends is an American television sitcom created by David Crane and Marta Kauffman, which aired on NBC from September 22, 1994, to May 6, 2004, lasting ten seasons. With an ensemble cast starring Jennifer Aniston, Courteney Cox, Lisa Kudrow, Matt LeBlanc, Matthew Perry and David Schwimmer, the show revolves around six friends in their 20s and 30s who live in Manhattan, New York City. The series was produced by Bright/Kauffman/Crane Productions, in association with Warner Bros. Television. The original executive producers were Kevin S. Bright, Kauffman, and Crane.\n"
     ]
    }
   ],
   "source": [
    "p = requests.get('https://api.themoviedb.org/3/search/tv', params={'api_key': 'd01ca9dc3e86ed3cac80146a6a3d6789', 'query': 'friends'})\n",
    "print(p.json()['results'][0]['overview'])"
   ]
  },
  {
   "cell_type": "code",
   "execution_count": 55,
   "id": "a809e9dd",
   "metadata": {},
   "outputs": [
    {
     "name": "stdout",
     "output_type": "stream",
     "text": [
      "The Holographic Excitation - 2012-10-25\n"
     ]
    }
   ],
   "source": [
    "p = requests.get('https://api.themoviedb.org/3/search/tv', params={'api_key': 'd01ca9dc3e86ed3cac80146a6a3d6789', 'query': 'The Big Bang Theory'})\n",
    "p_id = p.json()['results'][0]['id']\n",
    "p = requests.get('https://api.themoviedb.org/3/tv/'+str(p_id)+'/season/6/episode/5', params={'api_key': 'd01ca9dc3e86ed3cac80146a6a3d6789'})\n",
    "print(p.json()['name'], \"-\", p.json()['air_date'])"
   ]
  },
  {
   "cell_type": "code",
   "execution_count": 62,
   "id": "ed9746ac",
   "metadata": {},
   "outputs": [
    {
     "name": "stdout",
     "output_type": "stream",
     "text": [
      "When a young boy vanishes, a small town uncovers a mystery involving secret experiments, terrifying supernatural forces, and one strange little girl.\n",
      "A great student, avid gamer, and voracious fan-fic scribe, Kamala Khan has a special affinity for superheroes, particularly Captain Marvel. However, she struggles to fit in at home and at school — that is, until she gets superpowers like the heroes she’s always looked up to. Life is easier with superpowers, right?\n",
      "A group of vigilantes known informally as “The Boys” set out to take down corrupt superheroes with no more than blue-collar grit and a willingness to fight dirty.\n",
      "Car mechanic Eloy makes a terrible first impression on Ali, who works for a real estate magnate. But both of them are hiding their true personas.\n",
      "Empty\n"
     ]
    }
   ],
   "source": [
    "p = requests.get('https://api.themoviedb.org/3/tv/popular', params={'api_key': 'd01ca9dc3e86ed3cac80146a6a3d6789'})\n",
    "for i in range(5):\n",
    "    if p.json()['results'][i]['overview'] == \"\":\n",
    "        print(\"Empty\")\n",
    "    else:\n",
    "        print(p.json()['results'][i]['overview'])"
   ]
  },
  {
   "cell_type": "code",
   "execution_count": 75,
   "id": "cf6eec49",
   "metadata": {},
   "outputs": [
    {
     "name": "stdout",
     "output_type": "stream",
     "text": [
      "20\n",
      "Emmerdale\n",
      "Hollyoaks\n",
      "PBS NewsHour\n",
      "Love Island\n",
      "General Hospital\n",
      "Days of Our Lives\n",
      "The Bold and the Beautiful\n"
     ]
    }
   ],
   "source": [
    "p = requests.get('https://api.themoviedb.org/4/tv/airing_today', params={'api_key': 'd01ca9dc3e86ed3cac80146a6a3d6789'})\n",
    "\n",
    "for i in p.json()['results']:\n",
    "    if i['original_language'] == 'en':\n",
    "        print(i['name'])"
   ]
  },
  {
   "cell_type": "code",
   "execution_count": 84,
   "id": "5596b191",
   "metadata": {},
   "outputs": [
    {
     "name": "stdout",
     "output_type": "stream",
     "text": [
      "{'success': False, 'status_code': 34, 'status_message': 'The resource you requested could not be found.'}\n"
     ]
    }
   ],
   "source": [
    "p = requests.get('https://api.themoviedb.org/3/search/tv', params={'api_key': 'd01ca9dc3e86ed3cac80146a6a3d6789', 'query': 'Money Heist'})\n",
    "p_id = p.json()['results'][0]['id']\n",
    "p = requests.get('https://api.themoviedb.org/3/credit/'+str(p_id), params={'api_key': 'd01ca9dc3e86ed3cac80146a6a3d6789'})\n",
    "print(p.json())"
   ]
  },
  {
   "cell_type": "code",
   "execution_count": null,
   "id": "9945e902",
   "metadata": {},
   "outputs": [],
   "source": []
  }
 ],
 "metadata": {
  "kernelspec": {
   "display_name": "Python 3 (ipykernel)",
   "language": "python",
   "name": "python3"
  },
  "language_info": {
   "codemirror_mode": {
    "name": "ipython",
    "version": 3
   },
   "file_extension": ".py",
   "mimetype": "text/x-python",
   "name": "python",
   "nbconvert_exporter": "python",
   "pygments_lexer": "ipython3",
   "version": "3.9.7"
  }
 },
 "nbformat": 4,
 "nbformat_minor": 5
}
