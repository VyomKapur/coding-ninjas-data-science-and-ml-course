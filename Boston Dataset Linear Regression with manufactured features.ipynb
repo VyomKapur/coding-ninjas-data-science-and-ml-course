{
 "cells": [
  {
   "cell_type": "code",
   "execution_count": 13,
   "id": "ebac4cf8",
   "metadata": {},
   "outputs": [],
   "source": [
    "from sklearn import datasets\n",
    "import numpy as np\n",
    "import pandas as pd\n",
    "from sklearn.linear_model import LinearRegression\n",
    "from sklearn import model_selection\n",
    "import seaborn as sns\n",
    "import matplotlib.pyplot as plt"
   ]
  },
  {
   "cell_type": "code",
   "execution_count": 14,
   "id": "e40d7945",
   "metadata": {},
   "outputs": [],
   "source": [
    "data = datasets.load_boston()\n",
    "x = data.data\n",
    "y = data.target"
   ]
  },
  {
   "cell_type": "code",
   "execution_count": 15,
   "id": "3448b458",
   "metadata": {},
   "outputs": [],
   "source": [
    "df = pd.DataFrame(x)\n",
    "df\n",
    "\n",
    "for i in df.columns:\n",
    "    df[str(i)+str(i)] = df[i]*df[i]"
   ]
  },
  {
   "cell_type": "code",
   "execution_count": 25,
   "id": "9e56d33b",
   "metadata": {},
   "outputs": [
    {
     "name": "stdout",
     "output_type": "stream",
     "text": [
      "26\n",
      "13\n"
     ]
    }
   ],
   "source": [
    "x_x = df.values\n",
    "print(len(x_x[0]))\n",
    "print(len(x[0]))"
   ]
  },
  {
   "cell_type": "code",
   "execution_count": 17,
   "id": "e07e7612",
   "metadata": {},
   "outputs": [],
   "source": [
    "x_train, x_test, y_train, y_test = model_selection.train_test_split(x, y, random_state=0)\n",
    "x1_train, x1_test, y1_train, y1_test = model_selection.train_test_split(x_x, y, random_state=0)"
   ]
  },
  {
   "cell_type": "code",
   "execution_count": 18,
   "id": "9c83b6f1",
   "metadata": {},
   "outputs": [
    {
     "data": {
      "text/plain": [
       "LinearRegression()"
      ]
     },
     "execution_count": 18,
     "metadata": {},
     "output_type": "execute_result"
    }
   ],
   "source": [
    "alg1 = LinearRegression()\n",
    "alg1.fit(x_train, y_train)\n",
    "alg2 = LinearRegression()\n",
    "alg2.fit(x1_train, y1_train)"
   ]
  },
  {
   "cell_type": "code",
   "execution_count": 26,
   "id": "f82e5e46",
   "metadata": {},
   "outputs": [],
   "source": [
    "y_pred = alg1.predict(x_test)\n",
    "y1_pred = alg2.predict(x1_test)"
   ]
  },
  {
   "cell_type": "code",
   "execution_count": 32,
   "id": "53086d4e",
   "metadata": {},
   "outputs": [
    {
     "data": {
      "image/png": "[encoded data removed]",
      "text/plain": [
       "<Figure size 432x288 with 1 Axes>"
      ]
     },
     "metadata": {
      "needs_background": "light"
     },
     "output_type": "display_data"
    }
   ],
   "source": [
    "plt.scatter(y_test, y_pred)\n",
    "plt.scatter(y1_test, y1_pred,color='red')\n",
    "plt.axis([0, 55, 0, 55])\n",
    "x = np.arange(0, 55, 0.1)\n",
    "plt.plot(x, x,color='orange')\n",
    "plt.show()"
   ]
  },
  {
   "cell_type": "code",
   "execution_count": 28,
   "id": "4eacada1",
   "metadata": {},
   "outputs": [
    {
     "data": {
      "text/plain": [
       "0.6354638433202129"
      ]
     },
     "execution_count": 28,
     "metadata": {},
     "output_type": "execute_result"
    }
   ],
   "source": [
    "alg1.score(x_test, y_test)"
   ]
  },
  {
   "cell_type": "code",
   "execution_count": 30,
   "id": "a6a86b06",
   "metadata": {},
   "outputs": [
    {
     "data": {
      "text/plain": [
       "0.7200918269122947"
      ]
     },
     "execution_count": 30,
     "metadata": {},
     "output_type": "execute_result"
    }
   ],
   "source": [
    "alg2.score(x1_test, y1_test)"
   ]
  }
 ],
 "metadata": {
  "kernelspec": {
   "display_name": "Python 3 (ipykernel)",
   "language": "python",
   "name": "python3"
  },
  "language_info": {
   "codemirror_mode": {
    "name": "ipython",
    "version": 3
   },
   "file_extension": ".py",
   "mimetype": "text/x-python",
   "name": "python",
   "nbconvert_exporter": "python",
   "pygments_lexer": "ipython3",
   "version": "3.9.7"
  }
 },
 "nbformat": 4,
 "nbformat_minor": 5
}
