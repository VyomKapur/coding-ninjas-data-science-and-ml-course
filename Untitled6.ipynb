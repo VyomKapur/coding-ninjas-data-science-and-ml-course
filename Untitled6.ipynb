{
 "cells": [
  {
   "cell_type": "code",
   "execution_count": 31,
   "id": "d5bb47e5",
   "metadata": {},
   "outputs": [],
   "source": [
    "import time\n",
    "import getpass\n",
    "from selenium import webdriver\n",
    "from selenium.webdriver.common.by import By\n",
    "from webdriver_manager.chrome import ChromeDriverManager\n",
    "from selenium.webdriver.support.ui import WebDriverWait\n",
    "from selenium.common.exceptions import NoSuchElementException\n",
    "from selenium.webdriver.support import expected_conditions as EC"
   ]
  },
  {
   "cell_type": "code",
   "execution_count": 32,
   "id": "62116b9a",
   "metadata": {},
   "outputs": [
    {
     "name": "stdout",
     "output_type": "stream",
     "text": [
      "\n"
     ]
    },
    {
     "name": "stderr",
     "output_type": "stream",
     "text": [
      "C:\\Users\\Vyom\\AppData\\Local\\Temp/ipykernel_5500/2659782063.py:1: DeprecationWarning: executable_path has been deprecated, please pass in a Service object\n",
      "  driver = webdriver.Chrome(ChromeDriverManager().install())\n"
     ]
    }
   ],
   "source": [
    "driver = webdriver.Chrome(ChromeDriverManager().install())\n",
    "driver.get('https://instagram.com')"
   ]
  },
  {
   "cell_type": "code",
   "execution_count": 33,
   "id": "399d2f20",
   "metadata": {},
   "outputs": [
    {
     "name": "stdout",
     "output_type": "stream",
     "text": [
      "Enter Instagram Username: yemigone\n",
      "Enter Instagram Password: vyasavyasa28\n"
     ]
    }
   ],
   "source": [
    "uname = input('Enter Instagram Username: ')\n",
    "pword = input('Enter Instagram Password: ')\n",
    "username = driver.find_element(By.NAME, 'username')\n",
    "password = driver.find_element(By.NAME, 'password')\n",
    "username.clear()\n",
    "password.clear()\n",
    "submit = driver.find_element(By.XPATH, '//button[@class=\"sqdOP  L3NKy   y3zKF     \"]')\n",
    "password.send_keys(pword)\n",
    "username.send_keys(uname)\n",
    "submit.click()"
   ]
  },
  {
   "cell_type": "code",
   "execution_count": 4,
   "id": "561b2e70",
   "metadata": {},
   "outputs": [],
   "source": [
    "search = driver.find_element(By.XPATH, '//input[@placeholder=\"Search\"]')\n",
    "search.send_keys(\"kanyewest\") \n",
    "handle = WebDriverWait(driver, 10).until(EC.presence_of_element_located((By.XPATH, '//div[@role=\"none\"]')))\n",
    "handle.click()"
   ]
  },
  {
   "cell_type": "code",
   "execution_count": 30,
   "id": "5643005e",
   "metadata": {},
   "outputs": [
    {
     "name": "stdout",
     "output_type": "stream",
     "text": [
      "Enter number of posts to be extracted: 5\n",
      "Post 4 is not liked\n",
      "Post  3  is liked\n",
      "Post  2  is liked\n",
      "Post  1  is liked\n",
      "Post 0 is not liked\n"
     ]
    }
   ],
   "source": [
    "post = driver.find_element(By.XPATH, '//div[@class=\"_aagw\"]')\n",
    "post.click()\n",
    "next_posts = driver.find_elements(By.XPATH, '//div[contains(@class,\"_aaqg _aaqh\")]//button[contains(@type,\"button\")]')\n",
    "ctr = int(input(\"Enter number of posts to be extracted: \"))\n",
    "while True:\n",
    "    try:\n",
    "        time.sleep(2)\n",
    "        ctr -= 1\n",
    "        if ctr < 0:\n",
    "            raise NoSuchElementException\n",
    "        liked = driver.find_elements(By.XPATH, '//span[contains(@class,\"_aamw\")]//button[contains(@type,\"button\")]/div')\n",
    "        if len(liked) == 1:\n",
    "            print(\"Post \", ctr, \" is liked\")\n",
    "        else:\n",
    "            print(\"Post\", ctr, \"is not liked\")\n",
    "        next_post = driver.find_element(By.XPATH, '//div[contains(@class,\"_aaqg _aaqh\")]//button[contains(@type,\"button\")]')\n",
    "        next_post.click()\n",
    "    except NoSuchElementException:\n",
    "        try:\n",
    "            close = driver.find_element(By.XPATH, '//div[@class=\"oajrlxb2 rq0escxv p7hjln8o kvgmc6g5 cxmmr5t8 oygrvhab hcukyx3x i1ao9s8h esuyzwwr f1sip0of lzcic4wl li38xygf futnfnd5 c9k30104 n3a6jdvc d7m63fex f8tn558r kkot5xxs bpozc334 q0p5rdf8 nv6ama0i c2oockdd tcrfgq0d nttjwlih\"]')\n",
    "            close.click()\n",
    "        except:\n",
    "            pass\n",
    "        break"
   ]
  },
  {
   "cell_type": "code",
   "execution_count": 34,
   "id": "da8f4a2a",
   "metadata": {},
   "outputs": [],
   "source": [
    "followers = driver.find_element(By.XPATH, '//div[@class=\"_aacl _aacp _aacu _aacx _aad6 _aade\"]')\n",
    "followers.click()"
   ]
  },
  {
   "cell_type": "code",
   "execution_count": null,
   "id": "9e55ed3f",
   "metadata": {},
   "outputs": [],
   "source": []
  }
 ],
 "metadata": {
  "kernelspec": {
   "display_name": "Python 3 (ipykernel)",
   "language": "python",
   "name": "python3"
  },
  "language_info": {
   "codemirror_mode": {
    "name": "ipython",
    "version": 3
   },
   "file_extension": ".py",
   "mimetype": "text/x-python",
   "name": "python",
   "nbconvert_exporter": "python",
   "pygments_lexer": "ipython3",
   "version": "3.9.7"
  }
 },
 "nbformat": 4,
 "nbformat_minor": 5
}
