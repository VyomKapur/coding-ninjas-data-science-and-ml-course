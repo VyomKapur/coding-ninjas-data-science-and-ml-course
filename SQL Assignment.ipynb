{
 "cells": [
  {
   "cell_type": "code",
   "execution_count": 3,
   "id": "1f63f95e",
   "metadata": {},
   "outputs": [],
   "source": [
    "import sqlite3 "
   ]
  },
  {
   "cell_type": "code",
   "execution_count": 5,
   "id": "ef73f2f5",
   "metadata": {},
   "outputs": [],
   "source": [
    "db = sqlite3.connect(\"Employee.sqlite\")\n",
    "cur = db.cursor()"
   ]
  },
  {
   "cell_type": "code",
   "execution_count": 7,
   "id": "a56221e4",
   "metadata": {},
   "outputs": [
    {
     "data": {
      "text/plain": [
       "<sqlite3.Cursor at 0x2503a8b38f0>"
      ]
     },
     "execution_count": 7,
     "metadata": {},
     "output_type": "execute_result"
    }
   ],
   "source": [
    "cur.execute(\"create table EmployeeDetail (employee_id int primary key, name varchar(20), age int, department varchar(25), salary int);\")"
   ]
  },
  {
   "cell_type": "code",
   "execution_count": 9,
   "id": "411d5e8a",
   "metadata": {},
   "outputs": [],
   "source": [
    "db.commit()"
   ]
  },
  {
   "cell_type": "code",
   "execution_count": 11,
   "id": "fa661e76",
   "metadata": {},
   "outputs": [
    {
     "data": {
      "text/plain": [
       "<sqlite3.Cursor at 0x2503a8b38f0>"
      ]
     },
     "execution_count": 11,
     "metadata": {},
     "output_type": "execute_result"
    }
   ],
   "source": [
    "values = [(100, 'Rishav', 25, 'Marketing', 50000), (101, 'Abhishek', 26, 'Operations', 60000),(102, 'Aman', 24, 'Human Resource', 75000)]\n",
    "cur.executemany(\"Insert into EmployeeDetail values (?, ?, ?, ?, ?);\", values)"
   ]
  },
  {
   "cell_type": "code",
   "execution_count": 12,
   "id": "0002e92f",
   "metadata": {},
   "outputs": [],
   "source": [
    "db.commit()"
   ]
  },
  {
   "cell_type": "code",
   "execution_count": 16,
   "id": "4659c7a2",
   "metadata": {},
   "outputs": [],
   "source": [
    "cur.execute(\"delete from EmployeeDetail where employee_id = 101;\")\n",
    "db.commit()"
   ]
  },
  {
   "cell_type": "code",
   "execution_count": 20,
   "id": "2eb05b20",
   "metadata": {},
   "outputs": [],
   "source": [
    "param = 102\n",
    "cur.execute(\"delete from EmployeeDetail where employee_id = ?;\", (param,))\n",
    "db.commit()"
   ]
  },
  {
   "cell_type": "code",
   "execution_count": 28,
   "id": "fd9a84c1",
   "metadata": {},
   "outputs": [],
   "source": [
    "employee_id=[101,102,103,104,105,106,107,108,109,110,111,112]\n",
    "name=['Aadarsh','Aarti','Siddharth','Aman','Amit','Shivansh','Vaibhav','Himanshu','Raman','Kunal','Adhira','Tanya']\n",
    "age=[25,27,25,24,30,26,23,26,25,26,29,24]\n",
    "department=['Marketing','Operations','Finance','Human Resource','Marketing','IT','Finance','IT','Operations','Marketing','Human Resource','Marketing']\n",
    "salary=[50000,60000,85000,75000,50000,90000,85000,90000,60000,50000,75000,50000]\n",
    "\n",
    "values = [(employee_id[i], name[i], age[i], department[i], salary[i],) for i in range(12)]\n",
    "cur.executemany(\"insert into EmployeeDetail values (?,?,?,?,?)\", values)\n",
    "db.commit()"
   ]
  },
  {
   "cell_type": "code",
   "execution_count": 31,
   "id": "61799f4d",
   "metadata": {},
   "outputs": [
    {
     "name": "stdout",
     "output_type": "stream",
     "text": [
      "[(103,), (107,)]\n"
     ]
    }
   ],
   "source": [
    "cur.execute(\"select employee_id from EmployeeDetail where department = 'Finance';\")\n",
    "ans = cur.fetchall()\n",
    "print(ans)"
   ]
  },
  {
   "cell_type": "code",
   "execution_count": 33,
   "id": "8cce148d",
   "metadata": {},
   "outputs": [
    {
     "name": "stdout",
     "output_type": "stream",
     "text": [
      "Finance 2\n",
      "Human Resource 2\n",
      "IT 2\n",
      "Marketing 5\n",
      "Operations 2\n"
     ]
    }
   ],
   "source": [
    "cur.execute(\"select department, count(*) from EmployeeDetail group by department\")\n",
    "ans = cur.fetchall()\n",
    "for i in ans:\n",
    "    print(i[0], i[1])"
   ]
  },
  {
   "cell_type": "code",
   "execution_count": 34,
   "id": "af1ed12f",
   "metadata": {},
   "outputs": [
    {
     "name": "stdout",
     "output_type": "stream",
     "text": [
      "Finance   2\n",
      "Human Resource   2\n",
      "IT   2\n",
      "Marketing   4\n",
      "Operations   2\n"
     ]
    }
   ],
   "source": [
    "import sqlite3\n",
    "db = sqlite3.connect('Employee_1.sqlite')\n",
    "cur = db.cursor()\n",
    "cur.execute('create table Employee_Detail (employee_id int primary key,name Text,age int,department Text,salary int)')\n",
    "values = [(101,\"Aadarsh\",25,\"Marketing\",50000),(102,\"Aarti\",27,\"Operations\",60000),(103,\"Siddharth\",25,\"Finance\",85000),(104,\"Aman\",25,\"Human Resource\",75000),(105,\"Amit\",30,\"Marketing\",50000),(106,\"Shivansh\",26,\"IT\",90000),(107,\"Vaibhav\",23,\"Finance\",85000),(108,\"Himanshu\",26,\"IT\",90000),(109,\"Raman\",25,\"Operations\",60000),(110,\"Kunal\",26,\"Marketing\",50000),(111,\"Adhira\",29,\"Human Resource\",75000),(112,\"Tanya\",24,\"Marketing\",50000)]\n",
    "cur.executemany('Insert into Employee_Detail values (?,?,?,?,?)',values)\n",
    "count = cur.execute('select department,count(*) from employee_detail group by department')\n",
    "db.commit()\n",
    "for i in count:\n",
    "    print(i[0],\" \",i[1])"
   ]
  },
  {
   "cell_type": "code",
   "execution_count": 45,
   "id": "ce21d24f",
   "metadata": {},
   "outputs": [
    {
     "name": "stdout",
     "output_type": "stream",
     "text": [
      "The Wolf of Wall Street (2013) 180\n"
     ]
    }
   ],
   "source": [
    "import sqlite3\n",
    "import numpy as np\n",
    "import pandas as pd\n",
    "\n",
    "db = sqlite3.connect('IMDB.sqlite')\n",
    "\n",
    "data = pd.read_sql_query('select title, runtime from imdb', db)\n",
    "# print(data)\n",
    "title = np.array(data.Title, dtype=str)\n",
    "runtime = np.array(data.Runtime)\n",
    "\n",
    "arg = runtime != \"\"\n",
    "runtime = runtime[arg]\n",
    "for i in range(len(runtime)):\n",
    "    runtime[i] = runtime[i].split()[0]\n",
    "runtime = np.array(runtime, dtype=int)\n",
    "title = title[arg]\n",
    "max = np.argmax(runtime)\n",
    "print(title[max], runtime[max])"
   ]
  },
  {
   "cell_type": "code",
   "execution_count": 64,
   "id": "bf7e219d",
   "metadata": {},
   "outputs": [
    {
     "name": "stdout",
     "output_type": "stream",
     "text": [
      "Straight Outta Compton (2015)\n"
     ]
    }
   ],
   "source": [
    "import sqlite3\n",
    "import numpy as np\n",
    "import pandas as pd\n",
    "\n",
    "db = sqlite3.connect('IMDB.sqlite')\n",
    "\n",
    "arr = pd.read_sql_query('select title, budget from imdb', db)\n",
    "moviecreds = pd.read_sql_query('select domestic, worldwide from earning', db)\n",
    "\n",
    "domestic = np.array(moviecreds.Domestic, dtype=int)\n",
    "worldwide = np.array(moviecreds.Worldwide, dtype=int)\n",
    "gross = np.array(domestic+worldwide, dtype=int)\n",
    "budget = np.array(arr.Budget)\n",
    "title = np.array(arr.Title)\n",
    "\n",
    "df = pd.DataFrame({'gross': gross, 'budget': budget, 'title': title})\n",
    "df = df[df.budget!=\"\"]\n",
    "\n",
    "df['net'] = np.array(df.gross-df.budget, dtype=int)\n",
    "\n",
    "max = np.argmax(df.net)\n",
    "print(title[max])"
   ]
  },
  {
   "cell_type": "code",
   "execution_count": 66,
   "id": "93388c67",
   "metadata": {},
   "outputs": [
    {
     "name": "stdout",
     "output_type": "stream",
     "text": [
      "R\n"
     ]
    }
   ],
   "source": [
    "import sqlite3\n",
    "import numpy as np\n",
    "import pandas as pd\n",
    "\n",
    "db = sqlite3.connect('IMDB.sqlite')\n",
    "\n",
    "arr = pd.read_sql_query('select title, budget from imdb', db)\n",
    "moviecreds = pd.read_sql_query('select domestic, worldwide from earning', db)\n",
    "\n",
    "domestic = np.array(moviecreds.Domestic, dtype=int)\n",
    "worldwide = np.array(moviecreds.Worldwide, dtype=int)\n",
    "gross = np.array(domestic+worldwide, dtype=int)\n",
    "budget = np.array(arr.Budget)\n",
    "title = np.array(arr.Title)\n",
    "\n",
    "df = pd.DataFrame({'gross': gross, 'budget': budget, 'title': title})\n",
    "df = df[df.budget!=\"\"]\n",
    "\n",
    "df['net'] = np.array(df.gross-df.budget, dtype=int)\n",
    "\n",
    "max = np.argmin(df.budget)\n",
    "\n",
    "max2 = np.argmax(df.net[max])\n",
    "\n",
    "print(title[max][max2])"
   ]
  },
  {
   "cell_type": "code",
   "execution_count": 90,
   "id": "39a19495",
   "metadata": {},
   "outputs": [
    {
     "name": "stdout",
     "output_type": "stream",
     "text": [
      "2012 Argo (2012)\n",
      "2013 12 Years a Slave (2013)\n",
      "2014 Big Hero 6 (2014)\n",
      "2015 Star Wars: The Force Awakens (2015)\n",
      "2016 Rogue One (2016)\n"
     ]
    }
   ],
   "source": [
    "\n",
    "import sqlite3\n",
    "import numpy as np\n",
    "import pandas as pd\n",
    "\n",
    "def f(str):\n",
    "    return str.split('(')[1].replace(')', \"\")\n",
    "\n",
    "db = sqlite3.connect('IMDB.sqlite')\n",
    "\n",
    "df = pd.read_sql_query('select imdb.title, earning.domestic, earning.worldwide from imdb inner join earning on imdb.movie_id = earning.movie_id', db)\n",
    "df.dropna(subset=['Title', 'Domestic', 'Worldwide'], inplace=True)\n",
    "df['year'] = df.Title.apply(f)\n",
    "df['net'] = df.Domestic + df.Worldwide\n",
    "df.drop(columns = ['Domestic', 'Worldwide'], inplace=True)\n",
    "d = {}\n",
    "max = 0\n",
    "for i in df.values:\n",
    "    if i[2] > max:\n",
    "        max = i[2]\n",
    "        d[i[1]] = i[0]\n",
    "for i in sorted(d.keys()):\n",
    "        print(i, d[i])\n"
   ]
  },
  {
   "cell_type": "code",
   "execution_count": 91,
   "id": "4c44b2b5",
   "metadata": {},
   "outputs": [
    {
     "ename": "TypeError",
     "evalue": "'float' object is not callable",
     "output_type": "error",
     "traceback": [
      "\u001b[1;31m---------------------------------------------------------------------------\u001b[0m",
      "\u001b[1;31mTypeError\u001b[0m                                 Traceback (most recent call last)",
      "\u001b[1;32m~\\AppData\\Local\\Temp/ipykernel_5616/1254704821.py\u001b[0m in \u001b[0;36m<module>\u001b[1;34m\u001b[0m\n\u001b[0;32m     17\u001b[0m \u001b[0myear\u001b[0m\u001b[1;33m=\u001b[0m\u001b[0msorted\u001b[0m\u001b[1;33m(\u001b[0m\u001b[0mimdb_earning\u001b[0m\u001b[1;33m[\u001b[0m\u001b[1;34m'Year'\u001b[0m\u001b[1;33m]\u001b[0m\u001b[1;33m.\u001b[0m\u001b[0mvalue_counts\u001b[0m\u001b[1;33m(\u001b[0m\u001b[1;33m)\u001b[0m\u001b[1;33m.\u001b[0m\u001b[0mindex\u001b[0m\u001b[1;33m)\u001b[0m\u001b[1;33m\u001b[0m\u001b[1;33m\u001b[0m\u001b[0m\n\u001b[0;32m     18\u001b[0m \u001b[1;32mfor\u001b[0m \u001b[0mi\u001b[0m \u001b[1;32min\u001b[0m \u001b[0mrange\u001b[0m\u001b[1;33m(\u001b[0m\u001b[0mlen\u001b[0m\u001b[1;33m(\u001b[0m\u001b[0myear\u001b[0m\u001b[1;33m)\u001b[0m\u001b[1;33m)\u001b[0m\u001b[1;33m:\u001b[0m\u001b[1;33m\u001b[0m\u001b[1;33m\u001b[0m\u001b[0m\n\u001b[1;32m---> 19\u001b[1;33m     \u001b[0mearning\u001b[0m\u001b[1;33m=\u001b[0m\u001b[0mmax\u001b[0m\u001b[1;33m(\u001b[0m\u001b[0mimdb_earning\u001b[0m\u001b[1;33m[\u001b[0m\u001b[0mimdb_earning\u001b[0m\u001b[1;33m[\u001b[0m\u001b[1;34m'Year'\u001b[0m\u001b[1;33m]\u001b[0m\u001b[1;33m==\u001b[0m\u001b[0myear\u001b[0m\u001b[1;33m[\u001b[0m\u001b[0mi\u001b[0m\u001b[1;33m]\u001b[0m\u001b[1;33m]\u001b[0m\u001b[1;33m[\u001b[0m\u001b[1;34m'Total Earning'\u001b[0m\u001b[1;33m]\u001b[0m\u001b[1;33m)\u001b[0m\u001b[1;33m\u001b[0m\u001b[1;33m\u001b[0m\u001b[0m\n\u001b[0m\u001b[0;32m     20\u001b[0m     \u001b[0mprint\u001b[0m\u001b[1;33m(\u001b[0m\u001b[0myear\u001b[0m\u001b[1;33m[\u001b[0m\u001b[0mi\u001b[0m\u001b[1;33m]\u001b[0m\u001b[1;33m,\u001b[0m\u001b[0mimdb_earning\u001b[0m\u001b[1;33m[\u001b[0m\u001b[0mimdb_earning\u001b[0m\u001b[1;33m[\u001b[0m\u001b[1;34m'Total Earning'\u001b[0m\u001b[1;33m]\u001b[0m\u001b[1;33m==\u001b[0m\u001b[0mearning\u001b[0m\u001b[1;33m]\u001b[0m\u001b[1;33m[\u001b[0m\u001b[1;34m'Title'\u001b[0m\u001b[1;33m]\u001b[0m\u001b[1;33m.\u001b[0m\u001b[0mvalues\u001b[0m\u001b[1;33m[\u001b[0m\u001b[1;36m0\u001b[0m\u001b[1;33m]\u001b[0m\u001b[1;33m)\u001b[0m\u001b[1;33m\u001b[0m\u001b[1;33m\u001b[0m\u001b[0m\n",
      "\u001b[1;31mTypeError\u001b[0m: 'float' object is not callable"
     ]
    }
   ],
   "source": [
    "## Open and read data file as specified in the question\n",
    "## Print the required output in given format\n",
    "import pandas as pd\n",
    "import sqlite3\n",
    "import numpy as np\n",
    "db=sqlite3.connect('IMDB.sqlite')\n",
    "imdb=pd.read_sql_query(\"Select * from IMDB\",db)\n",
    "earning=pd.read_sql_query(\"Select * from earning\",db)\n",
    "genre=pd.read_sql_query(\"Select * from genre\",db)\n",
    "imdb_earning=pd.merge(imdb,earning,on='Movie_id')\n",
    "imdb_earning['Domestic'].replace('',0,inplace=True)\n",
    "imdb_earning['Worldwide'].replace('',0,inplace=True)\n",
    "imdb_earning['Total Earning']=imdb_earning['Domestic']+imdb_earning['Worldwide']\n",
    "def findYear(title):\n",
    "    return int(title.split('(')[-1][:-1])\n",
    "imdb_earning['Year']=imdb_earning['Title'].apply(findYear)\n",
    "year=sorted(imdb_earning['Year'].value_counts().index)\n",
    "for i in range(len(year)):\n",
    "    earning=max(imdb_earning[imdb_earning['Year']==year[i]]['Total Earning'])\n",
    "    print(year[i],imdb_earning[imdb_earning['Total Earning']==earning]['Title'].values[0])"
   ]
  },
  {
   "cell_type": "code",
   "execution_count": 115,
   "id": "9ff7a682",
   "metadata": {},
   "outputs": [
    {
     "name": "stdout",
     "output_type": "stream",
     "text": [
      "Biography 2.59\n",
      "Adventure 25.10\n",
      "Comedy 7.22\n",
      "Drama 10.85\n",
      "Action 17.98\n",
      "Animation 7.66\n",
      "Crime 1.77\n",
      "Mystery 1.95\n",
      "Romance 1.12\n",
      "Thriller 3.99\n",
      "History 0.72\n",
      "Sport 0.46\n",
      "Western 0.57\n",
      "Sci-Fi 10.77\n",
      "Family 1.91\n",
      "Musical 0.25\n",
      "Fantasy 4.54\n",
      "War 0.36\n",
      "Horror 0.03\n",
      "Music 0.15\n"
     ]
    }
   ],
   "source": [
    "import sqlite3\n",
    "import numpy as np\n",
    "import pandas as pd\n",
    "\n",
    "db = sqlite3.connect('IMDB.sqlite')\n",
    "\n",
    "df = pd.read_sql_query('select genre.genre, imdb.budget from genre inner join imdb on genre.movie_id = imdb.movie_id', db)\n",
    "\n",
    "df = df[df.Budget != \"\"]\n",
    "df = df[df.genre != \"\"]\n",
    "d = {}\n",
    "# print(df)\n",
    "for i in df.values:\n",
    "    d[i[0]] = d.get(i[0], 0) + i[1]\n",
    "\n",
    "values = np.array(list(d.values()), dtype=float)\n",
    "keys = np.array(list(d.keys()))\n",
    "sum = np.sum(values)\n",
    "\n",
    "for i in range((keys.size)):\n",
    "    print(keys[i], '%.2f'%(values[i]*100/sum))"
   ]
  },
  {
   "cell_type": "code",
   "execution_count": 119,
   "id": "b9ac0b05",
   "metadata": {},
   "outputs": [
    {
     "name": "stdout",
     "output_type": "stream",
     "text": [
      "Biography 3.42\n",
      "Adventure 23.57\n",
      "Comedy 7.69\n",
      "Drama 11.96\n",
      "Action 17.91\n",
      "Animation 6.77\n",
      "Crime 1.55\n",
      "Mystery 2.01\n",
      "Romance 1.45\n",
      "Thriller 4.42\n",
      "History 1.04\n",
      "Sport 0.32\n",
      "Western 0.65\n",
      "Sci-Fi 9.95\n",
      "Family 1.05\n",
      "Musical 0.38\n",
      "Fantasy 5.15\n",
      "War 0.25\n",
      "Horror 0.01\n",
      "Music 0.43\n"
     ]
    }
   ],
   "source": [
    "import sqlite3\n",
    "import numpy as np\n",
    "import pandas as pd\n",
    "\n",
    "db = sqlite3.connect('IMDB.sqlite')\n",
    "df = pd.read_sql_query('select genre.genre, earning.worldwide, earning.domestic from genre inner join earning on genre.movie_id = earning.movie_id', db)\n",
    "\n",
    "df = df[df.Worldwide != \"\"]\n",
    "df = df[df.Domestic != \"\"]\n",
    "df = df[df.genre != \"\"]\n",
    "df['net'] = df.Worldwide + df.Domestic\n",
    "df.drop(columns=['Worldwide', 'Domestic'], inplace=True)\n",
    "\n",
    "d = {}\n",
    "\n",
    "# print(df)\n",
    "for i in df.values:\n",
    "    d[i[0]] = d.get(i[0], 0) + i[1]\n",
    "\n",
    "values = np.array(list(d.values()), dtype=float)\n",
    "keys = np.array(list(d.keys()))\n",
    "sum = np.sum(values)\n",
    "\n",
    "for i in range((keys.size)):\n",
    "    print(keys[i], '%.2f'%(values[i]*100/sum))"
   ]
  },
  {
   "cell_type": "code",
   "execution_count": 12,
   "id": "eccd5ba8",
   "metadata": {},
   "outputs": [
    {
     "name": "stdout",
     "output_type": "stream",
     "text": [
      "Arrival (2016)\n"
     ]
    }
   ],
   "source": [
    "import sqlite3\n",
    "import numpy as np\n",
    "import pandas as pd\n",
    "\n",
    "db = sqlite3.connect('IMDB.sqlite')\n",
    "df = pd.read_sql_query('select genre.genre, imdb.title, imdb.rating from genre inner join imdb on genre.movie_id = imdb.movie_id', db)\n",
    "df = df[df.Rating >= 8]\n",
    "title = np.array(df.Title)\n",
    "genre = np.array(df.genre)\n",
    "d = {}\n",
    "\n",
    "for i in range(len(title)):\n",
    "    d[title[i]] = d.get(title[i], '') + \" \" + genre[i]\n",
    "for movie, genres in d.items():\n",
    "    if 'Sci-Fi' in genres.split(\" \") and 'Mystery' in genres.split(\" \"):\n",
    "        print(movie)"
   ]
  },
  {
   "cell_type": "code",
   "execution_count": null,
   "id": "1e63b0d9",
   "metadata": {},
   "outputs": [],
   "source": []
  }
 ],
 "metadata": {
  "kernelspec": {
   "display_name": "Python 3 (ipykernel)",
   "language": "python",
   "name": "python3"
  },
  "language_info": {
   "codemirror_mode": {
    "name": "ipython",
    "version": 3
   },
   "file_extension": ".py",
   "mimetype": "text/x-python",
   "name": "python",
   "nbconvert_exporter": "python",
   "pygments_lexer": "ipython3",
   "version": "3.9.7"
  }
 },
 "nbformat": 4,
 "nbformat_minor": 5
}
