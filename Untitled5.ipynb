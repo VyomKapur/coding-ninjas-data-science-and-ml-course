{
 "cells": [
  {
   "cell_type": "code",
   "execution_count": 58,
   "id": "81d13889",
   "metadata": {},
   "outputs": [
    {
     "name": "stdout",
     "output_type": "stream",
     "text": [
      "\n"
     ]
    },
    {
     "name": "stderr",
     "output_type": "stream",
     "text": [
      "C:\\Users\\Vyom\\AppData\\Local\\Temp/ipykernel_9232/2338598275.py:5: DeprecationWarning: executable_path has been deprecated, please pass in a Service object\n",
      "  driver = webdriver.Chrome(ChromeDriverManager().install())\n"
     ]
    }
   ],
   "source": [
    "from selenium import webdriver\n",
    "from webdriver_manager.chrome import ChromeDriverManager\n",
    "from selenium.webdriver.common.by import By\n",
    "from selenium.webdriver.support.select import Select\n",
    "driver = webdriver.Chrome(ChromeDriverManager().install())"
   ]
  },
  {
   "cell_type": "code",
   "execution_count": 2,
   "id": "4118b61f",
   "metadata": {},
   "outputs": [],
   "source": [
    "driver.get('https://www.quackit.com/preview/html_editor_result.cfm?contentFile=/html_5/tags/_inc/inc_html_select_tag.cfm')"
   ]
  },
  {
   "cell_type": "code",
   "execution_count": 3,
   "id": "26875f88",
   "metadata": {},
   "outputs": [
    {
     "data": {
      "text/plain": [
       "<selenium.webdriver.remote.webelement.WebElement (session=\"a8c6a5822d46d97e0c13ca5d9da3386f\", element=\"e766ab66-11a2-4be1-b6c6-b86dea7f21f3\")>"
      ]
     },
     "execution_count": 3,
     "metadata": {},
     "output_type": "execute_result"
    }
   ],
   "source": [
    "drop = driver.find_element('tag name', 'select')\n",
    "drop"
   ]
  },
  {
   "cell_type": "code",
   "execution_count": 4,
   "id": "01a876da",
   "metadata": {},
   "outputs": [
    {
     "data": {
      "text/plain": [
       "[<selenium.webdriver.remote.webelement.WebElement (session=\"a8c6a5822d46d97e0c13ca5d9da3386f\", element=\"bebbef01-2c19-490d-8f0f-c77dd22015ff\")>,\n",
       " <selenium.webdriver.remote.webelement.WebElement (session=\"a8c6a5822d46d97e0c13ca5d9da3386f\", element=\"b3180963-cbfa-40e4-a139-c31e7a4b70d8\")>,\n",
       " <selenium.webdriver.remote.webelement.WebElement (session=\"a8c6a5822d46d97e0c13ca5d9da3386f\", element=\"83ce528c-ac7b-4e96-a9cf-380e6c9e47c7\")>,\n",
       " <selenium.webdriver.remote.webelement.WebElement (session=\"a8c6a5822d46d97e0c13ca5d9da3386f\", element=\"62d0b11d-2a25-4e4a-9865-0fb2d446d4b2\")>]"
      ]
     },
     "execution_count": 4,
     "metadata": {},
     "output_type": "execute_result"
    }
   ],
   "source": [
    "s = Select(drop)\n",
    "s.options"
   ]
  },
  {
   "cell_type": "code",
   "execution_count": 6,
   "id": "802edbae",
   "metadata": {},
   "outputs": [
    {
     "name": "stdout",
     "output_type": "stream",
     "text": [
      "Sydney\n",
      "Melbourne\n",
      "Cromwell\n",
      "Queenstown\n"
     ]
    }
   ],
   "source": [
    "for i in s.options:\n",
    "    print(i.get_attribute('innerHTML'))"
   ]
  },
  {
   "cell_type": "code",
   "execution_count": 59,
   "id": "089d2966",
   "metadata": {},
   "outputs": [],
   "source": [
    "driver.get('https://www.quora.com/search?q=Avengers&type=question')"
   ]
  },
  {
   "cell_type": "code",
   "execution_count": null,
   "id": "e99e1110",
   "metadata": {},
   "outputs": [],
   "source": [
    "questions = []\n",
    "while len(questions) < 20:\n",
    "    questions = driver.find_elements(By.XPATH,\"//div[@class='q-box qu-borderBottom qu-p--medium']\")\n",
    "    driver.execute_script('window.scrollBy(0, 1000);')\n",
    "    print(len(questions))"
   ]
  },
  {
   "cell_type": "code",
   "execution_count": null,
   "id": "088bea7e",
   "metadata": {},
   "outputs": [],
   "source": [
    "for question in questions:\n",
    "    print(question.text)\n",
    "\n",
    "len(questions)"
   ]
  },
  {
   "cell_type": "code",
   "execution_count": null,
   "id": "50ef78d8",
   "metadata": {},
   "outputs": [],
   "source": []
  }
 ],
 "metadata": {
  "kernelspec": {
   "display_name": "Python 3 (ipykernel)",
   "language": "python",
   "name": "python3"
  },
  "language_info": {
   "codemirror_mode": {
    "name": "ipython",
    "version": 3
   },
   "file_extension": ".py",
   "mimetype": "text/x-python",
   "name": "python",
   "nbconvert_exporter": "python",
   "pygments_lexer": "ipython3",
   "version": "3.9.7"
  }
 },
 "nbformat": 4,
 "nbformat_minor": 5
}
