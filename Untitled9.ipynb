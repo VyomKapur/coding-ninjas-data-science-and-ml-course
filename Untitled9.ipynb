{
 "cells": [
  {
   "cell_type": "code",
   "execution_count": 8,
   "id": "c2700b0e",
   "metadata": {},
   "outputs": [],
   "source": [
    "\n"
   ]
  },
  {
   "cell_type": "code",
   "execution_count": 37,
   "id": "e4bb4daa",
   "metadata": {},
   "outputs": [
    {
     "name": "stdout",
     "output_type": "stream",
     "text": [
      "Web Development Trends to watch out for in 2020\n",
      "Web Development: Interviews and You!\n",
      "Get equipped for the Technical Interviews\n",
      "Explore more about the projects in Web Development\n",
      "5G to be a major gamechanger for Edu-tech platforms\n"
     ]
    }
   ],
   "source": [
    "import requests\n",
    "from bs4 import BeautifulSoupurl = \"https://medium.com/codingninjas-blog\"\n",
    "response = requests.get(url)\n",
    "page = response.content\n",
    "soup = BeautifulSoup(page, 'html.parser')\n",
    "\n",
    "articles = soup.find_all(\"div\", class_=\"postArticle postArticle--short is-withAccentColors\")\n",
    "\n",
    "urls = []\n",
    "for article in articles:\n",
    "    article_url = article.find_all(\"a\")[3]['href'].split('?')[0]\n",
    "    urls.append(article_url)\n",
    "ctr = 0\n",
    "for url in urls:\n",
    "    if ctr == 5:\n",
    "        break\n",
    "    ctr += 1\n",
    "    response = requests.get(url)\n",
    "    page = response.content\n",
    "    soup = BeautifulSoup(page, 'html.parser')\n",
    "    title = soup.find('title')\n",
    "    print(title.text.split('|')[0].strip())"
   ]
  },
  {
   "cell_type": "code",
   "execution_count": 27,
   "id": "c1f8f0c5",
   "metadata": {},
   "outputs": [
    {
     "name": "stdout",
     "output_type": "stream",
     "text": [
      "https://medium.com/codingninjas-blog/machine-learning-is-a-branch-of-artificial-intelligence-that-gives-a-machine-the-ability-to-352370bb53ef\n"
     ]
    }
   ],
   "source": [
    "print(urls[7])"
   ]
  },
  {
   "cell_type": "code",
   "execution_count": 26,
   "id": "b6a34a2f",
   "metadata": {},
   "outputs": [
    {
     "name": "stdout",
     "output_type": "stream",
     "text": [
      "https://medium.com/codingninjas-blog/web-development-trends-to-watch-out-for-in-2020-ffac6fd82980\n",
      "https://medium.com/codingninjas-blog/web-development-interviews-and-you-ff7156936d57\n",
      "https://medium.com/codingninjas-blog/get-equipped-for-the-technical-interviews-be1fa35cc9e5\n",
      "https://medium.com/codingninjas-blog/a-social-media-app-987110f6f0f\n",
      "https://medium.com/codingninjas-blog/5g-to-be-a-major-gamechanger-for-edu-tech-platforms-661a5f2ba259\n",
      "https://medium.com/codingninjas-blog/the-three-cs-of-life-code-crack-compete-6691de82c986\n",
      "https://medium.com/codingninjas-blog/major-projects-in-machine-learning-which-you-can-look-up-to-7039cc24ae84\n",
      "https://medium.com/codingninjas-blog/machine-learning-is-a-branch-of-artificial-intelligence-that-gives-a-machine-the-ability-to-352370bb53ef\n",
      "https://medium.com/codingninjas-blog/how-data-science-is-set-to-rule-in-2020-b5a76c17719d\n",
      "https://medium.com/codingninjas-blog/coding-myths-debunking-age-old-beliefs-around-programming-cee8dc19be1b\n"
     ]
    }
   ],
   "source": [
    "for url in urls:\n",
    "    print(url)"
   ]
  },
  {
   "cell_type": "code",
   "execution_count": null,
   "id": "45a03588",
   "metadata": {},
   "outputs": [],
   "source": []
  }
 ],
 "metadata": {
  "kernelspec": {
   "display_name": "Python 3 (ipykernel)",
   "language": "python",
   "name": "python3"
  },
  "language_info": {
   "codemirror_mode": {
    "name": "ipython",
    "version": 3
   },
   "file_extension": ".py",
   "mimetype": "text/x-python",
   "name": "python",
   "nbconvert_exporter": "python",
   "pygments_lexer": "ipython3",
   "version": "3.9.7"
  }
 },
 "nbformat": 4,
 "nbformat_minor": 5
}
