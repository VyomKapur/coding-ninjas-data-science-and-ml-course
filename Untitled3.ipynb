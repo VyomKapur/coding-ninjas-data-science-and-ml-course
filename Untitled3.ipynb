{
 "cells": [
  {
   "cell_type": "markdown",
   "id": "3af527d0",
   "metadata": {},
   "source": [
    "# import re\n",
    "import requests\n",
    "from bs4 import BeautifulSoup\n",
    "\n",
    "\n",
    "allPages = ['http://books.toscrape.com/catalogue/page-1.html',\n",
    "            'http://books.toscrape.com/catalogue/page-2.html']\n",
    "\n",
    "column_names = ['Title', 'Link', 'Price', 'Quantity in Stock']\n",
    "\n",
    "allBooks = []\n",
    "\n",
    "for page in allPages:\n",
    "    response = requests.get(page)\n",
    "    data = BeautifulSoup(response.text, 'html.parser')\n",
    "    \n",
    "    books = data.find_all(class_='product_pod')\n",
    "    \n",
    "    \n",
    "    base_url = 'http://books.toscrape.com/catalogue/'   \n",
    "        book_data = []a\n",
    "        book_data.append(book.h3.a['title'])\n",
    "        book_data.append(base_url+book.h3.a['href'])\n",
    "        book_response = requests.get(base_url+book.h3.a['href'])\n",
    "        book_response = BeautifulSoup(book_response.text, 'html.parser')\n",
    "        price = book_response.find(class_='price_color').string.strip()\n",
    "        price = re.search('[\\d.]+', price).group()\n",
    "        qty = book_response.find(class_='instock availability').contents[-1].string.strip()\n",
    "        qty = re.search('\\d+', qty).group()\n",
    "        book_data.append(float(price))\n",
    "        book_data.append(int(qty))\n",
    "        allBooks.append(book_data)\n",
    "    \n",
    "for book in allBooks:\n",
    "    print(book[0], book[1], book[2], book[3])"
   ]
  },
  {
   "cell_type": "code",
   "execution_count": 49,
   "id": "780d4eed",
   "metadata": {},
   "outputs": [],
   "source": [
    "import requests\n",
    "import numpy as np\n",
    "from bs4 import BeautifulSoup"
   ]
  },
  {
   "cell_type": "code",
   "execution_count": 15,
   "id": "02b5a8a3",
   "metadata": {},
   "outputs": [
    {
     "name": "stdout",
     "output_type": "stream",
     "text": [
      "Avengers: Infinity War; Action, Adventure, Sci-Fi\n",
      "Black Panther; Action, Adventure, Sci-Fi\n",
      "Deadpool 2; Action, Adventure, Comedy\n"
     ]
    }
   ],
   "source": [
    "response = requests.get(\"https://www.imdb.com/search/title/?release_date=2018&sort=num_votes,desc&page=1&ref_=adv_nxt\")\n",
    "data = BeautifulSoup(response.text, 'html.parser')\n",
    "\n",
    "movies = data.find_all(class_ = 'lister-item-content')\n",
    "\n",
    "ctr = 0\n",
    "for movie in movies:\n",
    "    if ctr == 3:\n",
    "        break\n",
    "    ctr += 1\n",
    "    print(movie.a.string+\";\", movie.find(class_='genre').string.strip())"
   ]
  },
  {
   "cell_type": "code",
   "execution_count": 22,
   "id": "eb4e2f90",
   "metadata": {},
   "outputs": [
    {
     "name": "stdout",
     "output_type": "stream",
     "text": [
      "{'Avengers: Infinity War': 8.4, 'Black Panther': 7.3, 'Deadpool 2': 7.7, 'Bohemian Rhapsody': 7.9, 'A Quiet Place': 7.5, 'Spider-Man: Into the Spider-Verse': 8.4, 'Venom': 6.6, 'Green Book': 8.2, 'Aquaman': 6.8, 'Ready Player One': 7.4, 'Ant-Man and the Wasp': 7.0, 'A Star Is Born': 7.6, 'Solo: A Star Wars Story': 6.9, 'Bird Box': 6.6, 'Mission: Impossible - Fallout': 7.7, 'Annihilation': 6.8, 'Jurassic World: Fallen Kingdom': 6.1, 'Hereditary': 7.3, 'Incredibles 2': 7.6, 'Fantastic Beasts: The Crimes of Grindelwald': 6.5, 'BlacKkKlansman': 7.5, 'Game Night': 6.9, 'The Haunting of Hill House': 8.6, 'You': 7.7, \"Ocean's Eight\": 6.3, 'Tomb Raider': 6.3, 'The Favourite': 7.5, 'First Man': 7.3, 'Red Sparrow': 6.6, 'Upgrade': 7.5, 'Crazy Rich Asians': 6.9, 'The Meg': 5.6, 'Cobra Kai': 8.5, 'Isle of Dogs': 7.8, 'Rampage': 6.1, 'Altered Carbon': 7.9, 'Bumblebee': 6.7, 'Searching': 7.6, 'Ralph Breaks the Internet': 7.0, 'The Equalizer 2': 6.7, 'Roma': 7.7, 'A Simple Favor': 6.8, 'Bad Times at the El Royale': 7.1, 'Halloween': 6.5, 'Sicario: Day of the Soldado': 7.1, 'Vice': 7.2, 'The Ballad of Buster Scruggs': 7.3, 'The Nun': 5.3, 'Maze Runner: The Death Cure': 6.2, 'The Mule': 7.0}\n"
     ]
    }
   ],
   "source": [
    "response = requests.get('https://www.imdb.com/search/title/?release_date=2018&sort=num_votes,desc&page=1&ref_=adv_nxt')\n",
    "data = BeautifulSoup(response.text, 'html.parser')\n",
    "\n",
    "movies = data.find_all(class_ = 'lister-item-content')\n",
    "d = {}\n",
    "for movie in movies:\n",
    "    d[movie.a.string] = float(movie.find(class_='inline-block ratings-imdb-rating').attrs['data-value'])\n",
    "print(d)"
   ]
  },
  {
   "cell_type": "code",
   "execution_count": 31,
   "id": "5b44d757",
   "metadata": {},
   "outputs": [
    {
     "name": "stdout",
     "output_type": "stream",
     "text": [
      "Inception\n",
      "Game of Thrones\n",
      "The Dark Knight Rises\n",
      "The Wolf of Wall Street\n",
      "Interstellar\n"
     ]
    }
   ],
   "source": [
    "allURLS = [\n",
    "    'https://www.imdb.com/search/title/?release_date=2010&sort=num_votes,desc&page=1',\n",
    "    'https://www.imdb.com/search/title/?release_date=2011&sort=num_votes,desc&page=1',\n",
    "    'https://www.imdb.com/search/title/?release_date=2012&sort=num_votes,desc&page=1',\n",
    "    'https://www.imdb.com/search/title/?release_date=2013&sort=num_votes,desc&page=1',\n",
    "    'https://www.imdb.com/search/title/?release_date=2014&sort=num_votes,desc&page=1'\n",
    "]\n",
    "d = {}\n",
    "for url in allURLS:\n",
    "    response = requests.get(url)\n",
    "    data = BeautifulSoup(response.text, 'html.parser')\n",
    "\n",
    "    movie = data.find(class_ = 'lister-item-header').a.string\n",
    "    print(movie)\n"
   ]
  },
  {
   "cell_type": "code",
   "execution_count": 52,
   "id": "567ada6b",
   "metadata": {},
   "outputs": [
    {
     "name": "stdout",
     "output_type": "stream",
     "text": [
      "The Haunting of Hill House 572\n"
     ]
    }
   ],
   "source": [
    "base_url = 'https://www.imdb.com/'\n",
    "curr_url = 'https://www.imdb.com/search/title/?release_date=2018&sort=num_votes,desc&page=1&ref_=adv_nxt'\n",
    "\n",
    "d = {}\n",
    "for i in range(5):\n",
    "    response = requests.get(curr_url)\n",
    "    data = BeautifulSoup(response.text, 'html.parser')\n",
    "    next_url = data.find(class_='lister-page-next next-page')['href']\n",
    "    titles = data.find_all(class_='lister-item-content')\n",
    "    for title in titles:\n",
    "        name = title.h3.a.string\n",
    "        try:\n",
    "            runtime = int(title.find(class_='runtime').string.split()[0])\n",
    "        except:\n",
    "            runtime = 0\n",
    "        d[name] = runtime\n",
    "    curr_url = base_url+next_url\n",
    "\n",
    "keys = np.array(list(d.keys()))\n",
    "values = np.array(list(d.values()))\n",
    "\n",
    "print(keys[values.argmax()], values.max())"
   ]
  },
  {
   "cell_type": "code",
   "execution_count": 57,
   "id": "42df3c8b",
   "metadata": {},
   "outputs": [
    {
     "name": "stdout",
     "output_type": "stream",
     "text": [
      "//upload.wikimedia.org/wikipedia/commons/6/69/EM_Clustering_of_Old_Faithful_data.gif\n"
     ]
    }
   ],
   "source": [
    "response = requests.get('https://en.wikipedia.org/wiki/Artificial_intelligence')\n",
    "data = BeautifulSoup(response.text, 'html.parser')\n",
    "\n",
    "images = data.find_all('img')\n",
    "max_image = -1\n",
    "src_image = \"\"\n",
    "for image in images:\n",
    "    if int(image.attrs['width'])*int(image.attrs['height']) > max_image:\n",
    "        max_image = int(image.attrs['width'])*int(image.attrs['height'])\n",
    "        src_image = image.attrs['src']\n",
    "print(src_image)"
   ]
  },
  {
   "cell_type": "code",
   "execution_count": 63,
   "id": "30e31b7e",
   "metadata": {},
   "outputs": [
    {
     "name": "stdout",
     "output_type": "stream",
     "text": [
      "“The person, be it gentleman or lady, who has not pleasure in a good novel, must be intolerably stupid.”\n",
      "“A day without sunshine is like, you know, night.”\n",
      "“Anyone who thinks sitting in church can make you a Christian must also think that sitting in a garage can make you a car.”\n",
      "“Beauty is in the eye of the beholder and it may be necessary from time to time to give a stupid or misinformed beholder a black eye.”\n",
      "“All you need is love. But a little chocolate now and then doesn't hurt.”\n",
      "“Remember, we're madly in love, so it's all right to kiss me anytime you feel like it.”\n",
      "“Some people never go crazy. What truly horrible lives they must lead.”\n",
      "“The trouble with having an open mind, of course, is that people will insist on coming along and trying to put things in it.”\n",
      "“Think left and think right and think low and think high. Oh, the thinks you can think up if only you try!”\n",
      "“The reason I talk to myself is because I’m the only one whose answers I accept.”\n",
      "“I am free of all prejudice. I hate everyone equally. ”\n",
      "“A lady's imagination is very rapid; it jumps from admiration to love, from love to matrimony in a moment.”\n"
     ]
    }
   ],
   "source": [
    "base_url = \"http://quotes.toscrape.com\"\n",
    "curr_url = \"http://quotes.toscrape.com/tag/humor/page/1/\"\n",
    "response = requests.get(curr_url)\n",
    "while response.status_code == 200:\n",
    "    data = BeautifulSoup(response.text, 'html.parser')\n",
    "    quotes = data.find_all(class_='text')\n",
    "    for quote in quotes:\n",
    "        print(quote.string)\n",
    "    try:\n",
    "        next_url = data.find(class_='next').a['href']\n",
    "        response = requests.get(base_url+next_url)\n",
    "    except:\n",
    "        break\n",
    "    "
   ]
  },
  {
   "cell_type": "code",
   "execution_count": 69,
   "id": "19c75881",
   "metadata": {},
   "outputs": [
    {
     "name": "stdout",
     "output_type": "stream",
     "text": [
      "['Albert Einstein', 'J.K. Rowling', 'Albert Einstein', 'Jane Austen', 'Marilyn Monroe', 'Albert Einstein', 'André Gide', 'Thomas A. Edison', 'Eleanor Roosevelt', 'Steve Martin', 'Marilyn Monroe', 'J.K. Rowling', 'Albert Einstein', 'Bob Marley', 'Dr. Seuss', 'Douglas Adams', 'Elie Wiesel', 'Friedrich Nietzsche', 'Mark Twain', 'Allen Saunders', 'Pablo Neruda', 'Ralph Waldo Emerson', 'Mother Teresa', 'Garrison Keillor', 'Jim Henson', 'Dr. Seuss', 'Albert Einstein', 'J.K. Rowling', 'Albert Einstein', 'Bob Marley', 'Dr. Seuss', 'J.K. Rowling', 'Bob Marley', 'Mother Teresa', 'J.K. Rowling', 'Charles M. Schulz', 'William Nicholson', 'Albert Einstein', 'Jorge Luis Borges', 'George Eliot', 'George R.R. Martin', 'C.S. Lewis', 'Marilyn Monroe', 'Marilyn Monroe', 'Albert Einstein', 'Marilyn Monroe', 'Marilyn Monroe', 'Martin Luther King Jr.', 'J.K. Rowling', 'James Baldwin', 'Jane Austen', 'Eleanor Roosevelt', 'Marilyn Monroe', 'Albert Einstein', 'Haruki Murakami', 'Alexandre Dumas fils', 'Stephenie Meyer', 'Ernest Hemingway', 'Helen Keller', 'George Bernard Shaw', 'Charles Bukowski', 'Suzanne Collins', 'Suzanne Collins', 'C.S. Lewis', 'J.R.R. Tolkien', 'J.K. Rowling', 'Ernest Hemingway', 'Ralph Waldo Emerson', 'Mark Twain', 'Dr. Seuss', 'Alfred Tennyson', 'Charles Bukowski', 'Terry Pratchett', 'Dr. Seuss', 'J.D. Salinger', 'George Carlin', 'John Lennon', 'W.C. Fields', 'Ayn Rand', 'Mark Twain', 'Albert Einstein', 'Jane Austen', 'J.K. Rowling', 'Jane Austen', 'Jane Austen', 'C.S. Lewis', 'C.S. Lewis', 'Mark Twain', 'Mark Twain', 'C.S. Lewis', 'J.K. Rowling', 'Jimi Hendrix', 'J.M. Barrie', 'E.E. Cummings', 'Khaled Hosseini', 'Harper Lee', \"Madeleine L'Engle\", 'Mark Twain', 'Dr. Seuss', 'George R.R. Martin']\n"
     ]
    }
   ],
   "source": [
    "base_url = 'http://quotes.toscrape.com/'\n",
    "curr_url = 'http://quotes.toscrape.com/page/1/'\n",
    "\n",
    "response = requests.get(curr_url)\n",
    "\n",
    "auth = []\n",
    "while response.status_code == 200:\n",
    "    data = BeautifulSoup(response.text, 'html.parser')\n",
    "    authors = data.find_all(class_='author')\n",
    "    for author in authors:\n",
    "        auth.append(author.string)\n",
    "    try:\n",
    "        next_url = data.find(class_='next').a['href']\n",
    "        curr_url = base_url+next_url\n",
    "        response = requests.get(curr_url)\n",
    "    except:\n",
    "        break\n",
    "\n",
    "auth = np.array(auth)\n",
    "auth = np.unique(auth)\n",
    "auth = np.sort(auth)\n",
    "print(auth)"
   ]
  },
  {
   "cell_type": "code",
   "execution_count": 74,
   "id": "780dc9f9",
   "metadata": {},
   "outputs": [
    {
     "name": "stdout",
     "output_type": "stream",
     "text": [
      "Collecting selenium\n",
      "  Using cached selenium-4.3.0-py3-none-any.whl (981 kB)\n",
      "Collecting trio~=0.17\n",
      "  Using cached trio-0.21.0-py3-none-any.whl (358 kB)\n",
      "Collecting trio-websocket~=0.9\n",
      "  Using cached trio_websocket-0.9.2-py3-none-any.whl (16 kB)\n",
      "Requirement already satisfied: urllib3[secure,socks]~=1.26 in c:\\users\\vyom\\anaconda3\\lib\\site-packages (from selenium) (1.26.7)\n",
      "Requirement already satisfied: sortedcontainers in c:\\users\\vyom\\anaconda3\\lib\\site-packages (from trio~=0.17->selenium) (2.4.0)\n",
      "Requirement already satisfied: async-generator>=1.9 in c:\\users\\vyom\\anaconda3\\lib\\site-packages (from trio~=0.17->selenium) (1.10)\n",
      "Requirement already satisfied: sniffio in c:\\users\\vyom\\anaconda3\\lib\\site-packages (from trio~=0.17->selenium) (1.2.0)\n",
      "Requirement already satisfied: idna in c:\\users\\vyom\\anaconda3\\lib\\site-packages (from trio~=0.17->selenium) (3.2)\n",
      "Requirement already satisfied: attrs>=19.2.0 in c:\\users\\vyom\\anaconda3\\lib\\site-packages (from trio~=0.17->selenium) (21.2.0)\n",
      "Collecting outcome\n",
      "  Using cached outcome-1.2.0-py2.py3-none-any.whl (9.7 kB)\n",
      "Requirement already satisfied: cffi>=1.14 in c:\\users\\vyom\\anaconda3\\lib\\site-packages (from trio~=0.17->selenium) (1.14.6)\n",
      "Requirement already satisfied: pycparser in c:\\users\\vyom\\anaconda3\\lib\\site-packages (from cffi>=1.14->trio~=0.17->selenium) (2.20)\n",
      "Collecting wsproto>=0.14\n",
      "  Using cached wsproto-1.1.0-py3-none-any.whl (24 kB)\n",
      "Requirement already satisfied: PySocks!=1.5.7,<2.0,>=1.5.6 in c:\\users\\vyom\\anaconda3\\lib\\site-packages (from urllib3[secure,socks]~=1.26->selenium) (1.7.1)\n",
      "Requirement already satisfied: pyOpenSSL>=0.14 in c:\\users\\vyom\\anaconda3\\lib\\site-packages (from urllib3[secure,socks]~=1.26->selenium) (21.0.0)\n",
      "Requirement already satisfied: cryptography>=1.3.4 in c:\\users\\vyom\\anaconda3\\lib\\site-packages (from urllib3[secure,socks]~=1.26->selenium) (3.4.8)\n",
      "Requirement already satisfied: certifi in c:\\users\\vyom\\anaconda3\\lib\\site-packages (from urllib3[secure,socks]~=1.26->selenium) (2021.10.8)\n",
      "Requirement already satisfied: six>=1.5.2 in c:\\users\\vyom\\anaconda3\\lib\\site-packages (from pyOpenSSL>=0.14->urllib3[secure,socks]~=1.26->selenium) (1.16.0)\n",
      "Collecting h11<1,>=0.9.0\n",
      "  Using cached h11-0.13.0-py3-none-any.whl (58 kB)\n",
      "Installing collected packages: outcome, h11, wsproto, trio, trio-websocket, selenium\n",
      "Successfully installed h11-0.13.0 outcome-1.2.0 selenium-4.3.0 trio-0.21.0 trio-websocket-0.9.2 wsproto-1.1.0\n"
     ]
    }
   ],
   "source": [
    "!pip install selenium"
   ]
  },
  {
   "cell_type": "code",
   "execution_count": 1,
   "id": "8677adeb",
   "metadata": {},
   "outputs": [
    {
     "name": "stdout",
     "output_type": "stream",
     "text": [
      "\n"
     ]
    },
    {
     "name": "stderr",
     "output_type": "stream",
     "text": [
      "C:\\Users\\Vyom\\AppData\\Local\\Temp/ipykernel_10448/3871533204.py:3: DeprecationWarning: executable_path has been deprecated, please pass in a Service object\n",
      "  driver = webdriver.Chrome(ChromeDriverManager().install())\n"
     ]
    }
   ],
   "source": [
    "from selenium import webdriver\n",
    "from webdriver_manager.chrome import ChromeDriverManager\n",
    "driver = webdriver.Chrome(ChromeDriverManager().install())"
   ]
  },
  {
   "cell_type": "code",
   "execution_count": 102,
   "id": "a74a05f2",
   "metadata": {},
   "outputs": [],
   "source": [
    "driver.get('https://www.google.com/')"
   ]
  },
  {
   "cell_type": "code",
   "execution_count": 106,
   "id": "a18a1ccc",
   "metadata": {},
   "outputs": [
    {
     "data": {
      "text/plain": [
       "<selenium.webdriver.remote.webelement.WebElement (session=\"43c351e6417406b32e9252dc47940a2b\", element=\"30a44c3c-fc2c-430f-88d2-e8cbe1648b59\")>"
      ]
     },
     "execution_count": 106,
     "metadata": {},
     "output_type": "execute_result"
    }
   ],
   "source": [
    "adv_button = driver.find_element(\"partial link text\", \"mage\")\n",
    "adv_button"
   ]
  },
  {
   "cell_type": "code",
   "execution_count": 110,
   "id": "96bca9ac",
   "metadata": {},
   "outputs": [
    {
     "data": {
      "text/plain": [
       "'Google'"
      ]
     },
     "execution_count": 110,
     "metadata": {},
     "output_type": "execute_result"
    }
   ],
   "source": [
    "driver.title"
   ]
  },
  {
   "cell_type": "code",
   "execution_count": 111,
   "id": "03dab1f0",
   "metadata": {},
   "outputs": [],
   "source": [
    "driver.back()"
   ]
  },
  {
   "cell_type": "code",
   "execution_count": 122,
   "id": "625f5611",
   "metadata": {},
   "outputs": [
    {
     "name": "stderr",
     "output_type": "stream",
     "text": [
      "C:\\Users\\Vyom\\AppData\\Local\\Temp/ipykernel_15648/672804789.py:1: DeprecationWarning: executable_path has been deprecated, please pass in a Service object\n",
      "  driver2 = webdriver.Chrome(executable_path = 'C:/Users/Vyom/Downloads/chromedriver_win32to/chromedriver.exe')\n"
     ]
    },
    {
     "ename": "WebDriverException",
     "evalue": "Message: 'chromedriver.exe' executable needs to be in PATH. Please see https://chromedriver.chromium.org/home\n",
     "output_type": "error",
     "traceback": [
      "\u001b[1;31m---------------------------------------------------------------------------\u001b[0m",
      "\u001b[1;31mFileNotFoundError\u001b[0m                         Traceback (most recent call last)",
      "\u001b[1;32m~\\anaconda3\\lib\\site-packages\\selenium\\webdriver\\common\\service.py\u001b[0m in \u001b[0;36mstart\u001b[1;34m(self)\u001b[0m\n\u001b[0;32m     70\u001b[0m             \u001b[0mcmd\u001b[0m\u001b[1;33m.\u001b[0m\u001b[0mextend\u001b[0m\u001b[1;33m(\u001b[0m\u001b[0mself\u001b[0m\u001b[1;33m.\u001b[0m\u001b[0mcommand_line_args\u001b[0m\u001b[1;33m(\u001b[0m\u001b[1;33m)\u001b[0m\u001b[1;33m)\u001b[0m\u001b[1;33m\u001b[0m\u001b[1;33m\u001b[0m\u001b[0m\n\u001b[1;32m---> 71\u001b[1;33m             self.process = subprocess.Popen(cmd, env=self.env,\n\u001b[0m\u001b[0;32m     72\u001b[0m                                             \u001b[0mclose_fds\u001b[0m\u001b[1;33m=\u001b[0m\u001b[0msystem\u001b[0m\u001b[1;33m(\u001b[0m\u001b[1;33m)\u001b[0m \u001b[1;33m!=\u001b[0m \u001b[1;34m'Windows'\u001b[0m\u001b[1;33m,\u001b[0m\u001b[1;33m\u001b[0m\u001b[1;33m\u001b[0m\u001b[0m\n",
      "\u001b[1;32m~\\anaconda3\\lib\\subprocess.py\u001b[0m in \u001b[0;36m__init__\u001b[1;34m(self, args, bufsize, executable, stdin, stdout, stderr, preexec_fn, close_fds, shell, cwd, env, universal_newlines, startupinfo, creationflags, restore_signals, start_new_session, pass_fds, user, group, extra_groups, encoding, errors, text, umask)\u001b[0m\n\u001b[0;32m    950\u001b[0m \u001b[1;33m\u001b[0m\u001b[0m\n\u001b[1;32m--> 951\u001b[1;33m             self._execute_child(args, executable, preexec_fn, close_fds,\n\u001b[0m\u001b[0;32m    952\u001b[0m                                 \u001b[0mpass_fds\u001b[0m\u001b[1;33m,\u001b[0m \u001b[0mcwd\u001b[0m\u001b[1;33m,\u001b[0m \u001b[0menv\u001b[0m\u001b[1;33m,\u001b[0m\u001b[1;33m\u001b[0m\u001b[1;33m\u001b[0m\u001b[0m\n",
      "\u001b[1;32m~\\anaconda3\\lib\\subprocess.py\u001b[0m in \u001b[0;36m_execute_child\u001b[1;34m(self, args, executable, preexec_fn, close_fds, pass_fds, cwd, env, startupinfo, creationflags, shell, p2cread, p2cwrite, c2pread, c2pwrite, errread, errwrite, unused_restore_signals, unused_gid, unused_gids, unused_uid, unused_umask, unused_start_new_session)\u001b[0m\n\u001b[0;32m   1419\u001b[0m             \u001b[1;32mtry\u001b[0m\u001b[1;33m:\u001b[0m\u001b[1;33m\u001b[0m\u001b[1;33m\u001b[0m\u001b[0m\n\u001b[1;32m-> 1420\u001b[1;33m                 hp, ht, pid, tid = _winapi.CreateProcess(executable, args,\n\u001b[0m\u001b[0;32m   1421\u001b[0m                                          \u001b[1;31m# no special security\u001b[0m\u001b[1;33m\u001b[0m\u001b[1;33m\u001b[0m\u001b[0m\n",
      "\u001b[1;31mFileNotFoundError\u001b[0m: [WinError 2] The system cannot find the file specified",
      "\nDuring handling of the above exception, another exception occurred:\n",
      "\u001b[1;31mWebDriverException\u001b[0m                        Traceback (most recent call last)",
      "\u001b[1;32m~\\AppData\\Local\\Temp/ipykernel_15648/672804789.py\u001b[0m in \u001b[0;36m<module>\u001b[1;34m\u001b[0m\n\u001b[1;32m----> 1\u001b[1;33m \u001b[0mdriver2\u001b[0m \u001b[1;33m=\u001b[0m \u001b[0mwebdriver\u001b[0m\u001b[1;33m.\u001b[0m\u001b[0mChrome\u001b[0m\u001b[1;33m(\u001b[0m\u001b[0mexecutable_path\u001b[0m \u001b[1;33m=\u001b[0m \u001b[1;34m'C:/Users/Vyom/Downloads/chromedriver_win32to/chromedriver.exe'\u001b[0m\u001b[1;33m)\u001b[0m\u001b[1;33m\u001b[0m\u001b[1;33m\u001b[0m\u001b[0m\n\u001b[0m",
      "\u001b[1;32m~\\anaconda3\\lib\\site-packages\\selenium\\webdriver\\chrome\\webdriver.py\u001b[0m in \u001b[0;36m__init__\u001b[1;34m(self, executable_path, port, options, service_args, desired_capabilities, service_log_path, chrome_options, service, keep_alive)\u001b[0m\n\u001b[0;32m     67\u001b[0m             \u001b[0mservice\u001b[0m \u001b[1;33m=\u001b[0m \u001b[0mService\u001b[0m\u001b[1;33m(\u001b[0m\u001b[0mexecutable_path\u001b[0m\u001b[1;33m,\u001b[0m \u001b[0mport\u001b[0m\u001b[1;33m,\u001b[0m \u001b[0mservice_args\u001b[0m\u001b[1;33m,\u001b[0m \u001b[0mservice_log_path\u001b[0m\u001b[1;33m)\u001b[0m\u001b[1;33m\u001b[0m\u001b[1;33m\u001b[0m\u001b[0m\n\u001b[0;32m     68\u001b[0m \u001b[1;33m\u001b[0m\u001b[0m\n\u001b[1;32m---> 69\u001b[1;33m         super().__init__(DesiredCapabilities.CHROME['browserName'], \"goog\",\n\u001b[0m\u001b[0;32m     70\u001b[0m                          \u001b[0mport\u001b[0m\u001b[1;33m,\u001b[0m \u001b[0moptions\u001b[0m\u001b[1;33m,\u001b[0m\u001b[1;33m\u001b[0m\u001b[1;33m\u001b[0m\u001b[0m\n\u001b[0;32m     71\u001b[0m                          \u001b[0mservice_args\u001b[0m\u001b[1;33m,\u001b[0m \u001b[0mdesired_capabilities\u001b[0m\u001b[1;33m,\u001b[0m\u001b[1;33m\u001b[0m\u001b[1;33m\u001b[0m\u001b[0m\n",
      "\u001b[1;32m~\\anaconda3\\lib\\site-packages\\selenium\\webdriver\\chromium\\webdriver.py\u001b[0m in \u001b[0;36m__init__\u001b[1;34m(self, browser_name, vendor_prefix, port, options, service_args, desired_capabilities, service_log_path, service, keep_alive)\u001b[0m\n\u001b[0;32m     87\u001b[0m \u001b[1;33m\u001b[0m\u001b[0m\n\u001b[0;32m     88\u001b[0m         \u001b[0mself\u001b[0m\u001b[1;33m.\u001b[0m\u001b[0mservice\u001b[0m \u001b[1;33m=\u001b[0m \u001b[0mservice\u001b[0m\u001b[1;33m\u001b[0m\u001b[1;33m\u001b[0m\u001b[0m\n\u001b[1;32m---> 89\u001b[1;33m         \u001b[0mself\u001b[0m\u001b[1;33m.\u001b[0m\u001b[0mservice\u001b[0m\u001b[1;33m.\u001b[0m\u001b[0mstart\u001b[0m\u001b[1;33m(\u001b[0m\u001b[1;33m)\u001b[0m\u001b[1;33m\u001b[0m\u001b[1;33m\u001b[0m\u001b[0m\n\u001b[0m\u001b[0;32m     90\u001b[0m \u001b[1;33m\u001b[0m\u001b[0m\n\u001b[0;32m     91\u001b[0m         \u001b[1;32mtry\u001b[0m\u001b[1;33m:\u001b[0m\u001b[1;33m\u001b[0m\u001b[1;33m\u001b[0m\u001b[0m\n",
      "\u001b[1;32m~\\anaconda3\\lib\\site-packages\\selenium\\webdriver\\common\\service.py\u001b[0m in \u001b[0;36mstart\u001b[1;34m(self)\u001b[0m\n\u001b[0;32m     79\u001b[0m         \u001b[1;32mexcept\u001b[0m \u001b[0mOSError\u001b[0m \u001b[1;32mas\u001b[0m \u001b[0merr\u001b[0m\u001b[1;33m:\u001b[0m\u001b[1;33m\u001b[0m\u001b[1;33m\u001b[0m\u001b[0m\n\u001b[0;32m     80\u001b[0m             \u001b[1;32mif\u001b[0m \u001b[0merr\u001b[0m\u001b[1;33m.\u001b[0m\u001b[0merrno\u001b[0m \u001b[1;33m==\u001b[0m \u001b[0merrno\u001b[0m\u001b[1;33m.\u001b[0m\u001b[0mENOENT\u001b[0m\u001b[1;33m:\u001b[0m\u001b[1;33m\u001b[0m\u001b[1;33m\u001b[0m\u001b[0m\n\u001b[1;32m---> 81\u001b[1;33m                 raise WebDriverException(\n\u001b[0m\u001b[0;32m     82\u001b[0m                     \"'{}' executable needs to be in PATH. {}\".format(\n\u001b[0;32m     83\u001b[0m                         os.path.basename(self.path), self.start_error_message)\n",
      "\u001b[1;31mWebDriverException\u001b[0m: Message: 'chromedriver.exe' executable needs to be in PATH. Please see https://chromedriver.chromium.org/home\n"
     ]
    }
   ],
   "source": [
    "driver2 = webdriver.Chrome(executable_path = 'C:/Users/Vyom/Downloads/chromedriver_win32to/chromedriver.exe')"
   ]
  },
  {
   "cell_type": "code",
   "execution_count": 11,
   "id": "b6a0db41",
   "metadata": {},
   "outputs": [],
   "source": [
    "driver.get('https://www.facebook.com/r.php')"
   ]
  },
  {
   "cell_type": "code",
   "execution_count": 12,
   "id": "f5f9ffa7",
   "metadata": {},
   "outputs": [
    {
     "data": {
      "text/plain": [
       "<selenium.webdriver.remote.webelement.WebElement (session=\"dd502f2b3defff7c1f790acf553aa946\", element=\"16c6ccbf-42e4-4957-b6e4-988c0d856a9d\")>"
      ]
     },
     "execution_count": 12,
     "metadata": {},
     "output_type": "execute_result"
    }
   ],
   "source": [
    "firstname = driver.find_element('name', 'firstname')\n",
    "firstname"
   ]
  },
  {
   "cell_type": "code",
   "execution_count": 13,
   "id": "c361e34b",
   "metadata": {},
   "outputs": [
    {
     "data": {
      "text/plain": [
       "True"
      ]
     },
     "execution_count": 13,
     "metadata": {},
     "output_type": "execute_result"
    }
   ],
   "source": [
    "firstname.is_enabled()"
   ]
  },
  {
   "cell_type": "code",
   "execution_count": 16,
   "id": "1bb7e596",
   "metadata": {},
   "outputs": [],
   "source": [
    "day = driver.find_element('id', 'day')\n",
    "day.click()"
   ]
  },
  {
   "cell_type": "code",
   "execution_count": 17,
   "id": "b4443c48",
   "metadata": {},
   "outputs": [
    {
     "data": {
      "text/plain": [
       "False"
      ]
     },
     "execution_count": 17,
     "metadata": {},
     "output_type": "execute_result"
    }
   ],
   "source": [
    "sex = driver.find_element('name', 'sex')\n",
    "sex.is_selected()"
   ]
  },
  {
   "cell_type": "code",
   "execution_count": 18,
   "id": "09bedaac",
   "metadata": {},
   "outputs": [],
   "source": [
    "sex.click()"
   ]
  },
  {
   "cell_type": "code",
   "execution_count": 19,
   "id": "97ebcc53",
   "metadata": {},
   "outputs": [
    {
     "data": {
      "text/plain": [
       "True"
      ]
     },
     "execution_count": 19,
     "metadata": {},
     "output_type": "execute_result"
    }
   ],
   "source": [
    "sex.is_selected()"
   ]
  },
  {
   "cell_type": "code",
   "execution_count": null,
   "id": "223e5f7d",
   "metadata": {},
   "outputs": [],
   "source": []
  }
 ],
 "metadata": {
  "kernelspec": {
   "display_name": "Python 3 (ipykernel)",
   "language": "python",
   "name": "python3"
  },
  "language_info": {
   "codemirror_mode": {
    "name": "ipython",
    "version": 3
   },
   "file_extension": ".py",
   "mimetype": "text/x-python",
   "name": "python",
   "nbconvert_exporter": "python",
   "pygments_lexer": "ipython3",
   "version": "3.9.7"
  }
 },
 "nbformat": 4,
 "nbformat_minor": 5
}
