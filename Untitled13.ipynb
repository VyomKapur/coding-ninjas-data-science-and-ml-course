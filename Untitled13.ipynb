{
 "cells": [
  {
   "cell_type": "code",
   "execution_count": 1,
   "id": "a46fedfd",
   "metadata": {},
   "outputs": [],
   "source": [
    "import os\n",
    "import nltk"
   ]
  },
  {
   "cell_type": "code",
   "execution_count": 3,
   "id": "f1585011",
   "metadata": {},
   "outputs": [],
   "source": [
    "l = os.listdir(nltk.data.find(\"corpora\"))"
   ]
  },
  {
   "cell_type": "code",
   "execution_count": 6,
   "id": "803d85ed",
   "metadata": {},
   "outputs": [
    {
     "name": "stdout",
     "output_type": "stream",
     "text": [
      "names\n",
      "names.zip\n",
      "nombank.1.0.zip\n",
      "nonbreaking_prefixes\n",
      "nonbreaking_prefixes.zip\n",
      "nps_chat\n",
      "nps_chat.zip\n"
     ]
    }
   ],
   "source": [
    "for i in l:\n",
    "    if i[0] == \"n\":\n",
    "        print(i)"
   ]
  },
  {
   "cell_type": "code",
   "execution_count": null,
   "id": "4153fff0",
   "metadata": {},
   "outputs": [],
   "source": []
  }
 ],
 "metadata": {
  "kernelspec": {
   "display_name": "Python 3 (ipykernel)",
   "language": "python",
   "name": "python3"
  },
  "language_info": {
   "codemirror_mode": {
    "name": "ipython",
    "version": 3
   },
   "file_extension": ".py",
   "mimetype": "text/x-python",
   "name": "python",
   "nbconvert_exporter": "python",
   "pygments_lexer": "ipython3",
   "version": "3.9.7"
  }
 },
 "nbformat": 4,
 "nbformat_minor": 5
}
