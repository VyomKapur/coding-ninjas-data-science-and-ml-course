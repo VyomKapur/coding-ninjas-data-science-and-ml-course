{
 "cells": [
  {
   "cell_type": "code",
   "execution_count": 36,
   "id": "ec3b30a1",
   "metadata": {},
   "outputs": [],
   "source": [
    "import time\n",
    "import getpass\n",
    "import numpy as np\n",
    "import pandas as pd\n",
    "from datetime import date\n",
    "from datetime import datetime\n",
    "from selenium import webdriver\n",
    "import matplotlib.pyplot as plt\n",
    "from selenium.webdriver.common.by import By\n",
    "from webdriver_manager.chrome import ChromeDriverManager\n",
    "from selenium.webdriver.support.ui import WebDriverWait\n",
    "from selenium.common.exceptions import NoSuchElementException\n",
    "from selenium.webdriver.support import expected_conditions as EC"
   ]
  },
  {
   "cell_type": "code",
   "execution_count": 37,
   "id": "7b59d1b2",
   "metadata": {},
   "outputs": [
    {
     "name": "stdout",
     "output_type": "stream",
     "text": [
      "\n"
     ]
    },
    {
     "name": "stderr",
     "output_type": "stream",
     "text": [
      "C:\\Users\\Vyom\\AppData\\Local\\Temp/ipykernel_3308/3840375834.py:1: DeprecationWarning: executable_path has been deprecated, please pass in a Service object\n",
      "  driver = webdriver.Chrome(ChromeDriverManager().install())\n"
     ]
    }
   ],
   "source": [
    "driver = webdriver.Chrome(ChromeDriverManager().install())\n",
    "driver.get('https://instagram.com/accounts/login/')"
   ]
  },
  {
   "cell_type": "code",
   "execution_count": 38,
   "id": "60b24aee",
   "metadata": {},
   "outputs": [],
   "source": [
    "input1 = driver.find_elements(By.XPATH, '//input[@class=\"_2hvTZ pexuQ zyHYP\"]')\n",
    "input1[0].send_keys(SAMPLE_USER)\n",
    "input1[1].send_keys(SAMPLE_PASS)\n",
    "submit = driver.find_element(By.XPATH, '//div[@class=\"             qF0y9          Igw0E     IwRSH      eGOV_       acqo5   _4EzTm    bkEs3                          CovQj                  jKUp7          DhRcB                                                    \"]')\n",
    "submit.click()"
   ]
  },
  {
   "cell_type": "code",
   "execution_count": 4,
   "id": "e74cbfcd",
   "metadata": {},
   "outputs": [],
   "source": [
    "search = driver.find_element(By.XPATH, '//div[@class=\"eyXLr\"]')\n",
    "search.click()"
   ]
  },
  {
   "cell_type": "code",
   "execution_count": 39,
   "id": "23910a4a",
   "metadata": {},
   "outputs": [],
   "source": [
    "import re\n",
    "d = {}\n",
    "i = 0\n",
    "for i in range(10):\n",
    "    s1 = False\n",
    "    while s1 == False:\n",
    "        try:\n",
    "            search = WebDriverWait(driver, 1).until(EC.element_to_be_clickable((By.XPATH, '//div[@class=\"eyXLr\"]')))\n",
    "            search.click()\n",
    "            searchbox = WebDriverWait(driver, 10).until(EC.presence_of_element_located((By.XPATH, '//input[@placeholder=\"Search\"]')))\n",
    "            searchbox.send_keys(\"food\") \n",
    "            handles = WebDriverWait(driver, 10).until(EC.presence_of_all_elements_located((By.XPATH, '//div[@role=\"none\"]')))\n",
    "            wait = WebDriverWait(driver, 10).until(EC.element_to_be_clickable(handles[i]))\n",
    "            handles[i].click()\n",
    "            s1 = True\n",
    "        except:\n",
    "            pass\n",
    "    succeed = False\n",
    "    while succeed==False:\n",
    "        try:\n",
    "            followers = WebDriverWait(driver, 10).until(EC.presence_of_all_elements_located((By.XPATH, '//div[@class=\"_aacl _aacp _aacu _aacx _aad6 _aade\"]')))\n",
    "            follower = followers[1].text.split()[0]\n",
    "            follower = \"\".join(follower.split(','))\n",
    "            succeed = True\n",
    "        except:\n",
    "            pass\n",
    "    if follower[-1] == \"M\":\n",
    "        if len(follower.split('.')) == 1:\n",
    "            follower = follower[0:-1] + \"000000\"\n",
    "        else:\n",
    "            follower = \"\".join(follower.split('.'))[0:-1] + \"00000\"\n",
    "    if follower[-1] == \"K\":\n",
    "        if len(follower.split('.')) == 1:\n",
    "            follower = follower[0:-1] + \"000\"\n",
    "        else:\n",
    "            follower = \"\".join(follower.split('.'))[0:-1] + \"00\"\n",
    "    name = WebDriverWait(driver, 10).until(EC.presence_of_element_located((By.XPATH, \"//h2[@class='_aacl _aacs _aact _aacx _aada']\")))   \n",
    "    d[name.text] = int(follower)\n",
    "    driver.back()\n",
    "    driver.refresh()"
   ]
  },
  {
   "cell_type": "code",
   "execution_count": 40,
   "id": "b5de7e41",
   "metadata": {},
   "outputs": [],
   "source": [
    "values = np.array(list(d.values()))\n",
    "accounts = np.array(list(d.keys()))\n",
    "argInd = values.argsort()\n",
    "values = values[argInd[::-1]]\n",
    "accounts = accounts[argInd[::-1]]\n",
    "accounts = accounts[0:5]\n",
    "d1 = {}\n",
    "i = 0\n",
    "for account in accounts:\n",
    "    base_url = 'https://instagram.com/'\n",
    "    url = base_url + account\n",
    "    driver.get(url)\n",
    "    time.sleep(1)\n",
    "    post = WebDriverWait(driver, 10).until(EC.presence_of_element_located((By.XPATH, '//div[@class=\"_aagw\"]')))\n",
    "    post.click()\n",
    "    t2 = WebDriverWait(driver, 10).until(EC.presence_of_element_located((By.XPATH, '//time[@class=\"_aaqe\"]')))\n",
    "    t = t2.get_attribute('datetime')\n",
    "    today = datetime.today()\n",
    "    t1 = t[8:10]+'/'+t[5:7]+'/'+t[2:4]\n",
    "    dt = datetime.strptime(t1, '%d/%m/%y')\n",
    "    l = today - dt\n",
    "    ctr = 1 \n",
    "    i += 1\n",
    "    while l.days <= 3:\n",
    "        next_post = driver.find_element(By.XPATH, '//div[@class=\" _aaqg _aaqh\"]')\n",
    "        next_post.click()\n",
    "        post = WebDriverWait(driver, 10).until(EC.presence_of_element_located((By.XPATH, '//time[@class=\"_aaqe\"]')))\n",
    "        t = post.get_attribute('datetime')\n",
    "        t1 = t[8:10]+'/'+t[5:7]+'/'+t[2:4]\n",
    "        dt = datetime.strptime(t1, '%d/%m/%y')\n",
    "        l = today - dt\n",
    "        ctr+= 1\n",
    "    d1[account] = ctr\n",
    "    driver.refresh()\n",
    "    time.sleep(5)\n"
   ]
  },
  {
   "cell_type": "code",
   "execution_count": 41,
   "id": "656c28a8",
   "metadata": {},
   "outputs": [
    {
     "data": {
      "image/png": "[encoded data removed]",
      "text/plain": [
       "<Figure size 432x288 with 1 Axes>"
      ]
     },
     "metadata": {
      "needs_background": "light"
     },
     "output_type": "display_data"
    }
   ],
   "source": [
    "values = np.array(list(d1.values()))\n",
    "accounts = np.array(list(d1.keys()))\n",
    "argInd = values.argsort()\n",
    "values = values[argInd[::-1]]\n",
    "accounts = accounts[argInd[::-1]]\n",
    "accounts = accounts[0:5]\n",
    "values = values[0:5]\n",
    "plt.bar(accounts, values, width=0.6)\n",
    "plt.xticks(rotation=60)\n",
    "plt.show()"
   ]
  },
  {
   "cell_type": "code",
   "execution_count": 42,
   "id": "157dbe3f",
   "metadata": {},
   "outputs": [],
   "source": [
    "import numpy as np\n",
    "from datetime import date\n",
    "from datetime import datetime\n",
    "import time\n",
    "values = np.array(list(d.values()))\n",
    "accounts = np.array(list(d.keys()))\n",
    "argInd = values.argsort()\n",
    "values = values[argInd[::-1]]\n",
    "accounts = accounts[argInd[::-1]]\n",
    "accounts = accounts[0:5]\n",
    "d2 = {}\n",
    "i = 0\n",
    "for account in accounts:\n",
    "    base_url = 'https://instagram.com/'\n",
    "    url = base_url + account\n",
    "    driver.get(url)\n",
    "    time.sleep(1)\n",
    "    post = WebDriverWait(driver, 10).until(EC.presence_of_element_located((By.XPATH, '//div[@class=\"_aagw\"]')))\n",
    "    post.click()\n",
    "    l = []\n",
    "    for i in range(5):\n",
    "        try:\n",
    "            post = WebDriverWait(driver, 10).until(EC.presence_of_element_located((By.XPATH, '//time[@class=\"_aaqe\"]')))\n",
    "            desc = WebDriverWait(driver, 10).until(EC.presence_of_element_located((By.XPATH, '//span[@class=\"_aacl _aaco _aacu _aacx _aad7 _aade\"]')))\n",
    "            l.append(desc.text)\n",
    "            time.sleep(2)\n",
    "            next_post = driver.find_element(By.XPATH, '//div[@class=\" _aaqg _aaqh\"]')\n",
    "            next_post.click()\n",
    "        except:\n",
    "            break\n",
    "    d2[account] = l\n",
    "    driver.back()\n",
    "    driver.refresh()\n",
    "    time.sleep(5)\n"
   ]
  },
  {
   "cell_type": "code",
   "execution_count": 43,
   "id": "e64656df",
   "metadata": {},
   "outputs": [],
   "source": [
    "import pandas as pd\n",
    "all_captions = list(d2.values())\n",
    "pattern = \"#(\\w+)\"\n",
    "hashtags = []\n",
    "for captions in all_captions:\n",
    "    for caption in captions:\n",
    "        r = re.findall(pattern, caption)\n",
    "        hashtags+= r\n",
    "hashtags = np.array(hashtags)\n",
    "values, counts = np.unique(hashtags, return_counts=True)\n",
    "a = []\n",
    "for i in range(len(values)):\n",
    "    a1 = []\n",
    "    a1.append(values[i])\n",
    "    a1.append(counts[i])\n",
    "    a.append(a1)\n",
    "df = pd.DataFrame(a, columns =['Word', 'Frequency'])\n",
    "df.to_csv('hashtags.csv',index=False)"
   ]
  },
  {
   "cell_type": "code",
   "execution_count": 44,
   "id": "c3f1d764",
   "metadata": {},
   "outputs": [
    {
     "data": {
      "image/png": "[encoded data removed]",
      "text/plain": [
       "<Figure size 432x288 with 1 Axes>"
      ]
     },
     "metadata": {
      "needs_background": "light"
     },
     "output_type": "display_data"
    }
   ],
   "source": [
    "df = df.sort_values(by='Frequency')\n",
    "plt.xticks(rotation=60)\n",
    "plt.bar(df.tail(5)['Word'], df.tail(5)['Frequency'], width=0.6)\n",
    "plt.show()"
   ]
  },
  {
   "cell_type": "code",
   "execution_count": 45,
   "id": "1a143c97",
   "metadata": {},
   "outputs": [],
   "source": [
    "import numpy as np\n",
    "from datetime import date\n",
    "from datetime import datetime\n",
    "import time\n",
    "values = np.array(list(d.values()))\n",
    "accounts = np.array(list(d.keys()))\n",
    "argInd = values.argsort()\n",
    "values = values[argInd[::-1]]\n",
    "accounts = accounts[argInd[::-1]]\n",
    "accounts = accounts[0:5]\n",
    "d3 = {}\n",
    "i = 0\n",
    "for account in accounts:\n",
    "    base_url = 'https://instagram.com/'\n",
    "    url = base_url + account\n",
    "    driver.get(url)\n",
    "    time.sleep(1)\n",
    "    post = WebDriverWait(driver, 10).until(EC.presence_of_element_located((By.XPATH, '//div[@class=\"_aagw\"]')))\n",
    "    post.click()\n",
    "    l = []\n",
    "    for i in range(5):\n",
    "        post = WebDriverWait(driver, 10).until(EC.presence_of_element_located((By.XPATH, '//time[@class=\"_aaqe\"]')))\n",
    "        \n",
    "        try:\n",
    "            likes = WebDriverWait(driver, 10).until(EC.presence_of_element_located((By.XPATH, '//a[@role=\"link\"]//div[@class=\"_aacl _aaco _aacw _adda _aacx _aada _aade\"]')))\n",
    "            l.append(int(\"\".join(\"\".join(likes.text.split()[0]).split(','))))\n",
    "        except:\n",
    "            i = i -1\n",
    "            \n",
    "        time.sleep(2)\n",
    "        try:\n",
    "            next_post = driver.find_element(By.XPATH, '//div[@class=\" _aaqg _aaqh\"]')\n",
    "            next_post.click()\n",
    "        except:\n",
    "            driver.back()\n",
    "            break\n",
    "    d3[account] = l\n",
    "    driver.back()\n",
    "    driver.refresh()\n",
    "    time.sleep(5)"
   ]
  },
  {
   "cell_type": "code",
   "execution_count": 46,
   "id": "e19ebea4",
   "metadata": {},
   "outputs": [],
   "source": [
    "likers = list(d3.values())\n",
    "d4 = {}\n",
    "perople = list(d3.keys())\n",
    "for i in range(5):\n",
    "    li = np.array(likers[i])\n",
    "    sum1 = np.sum(li)/5\n",
    "    d4[perople[i]] = sum1"
   ]
  },
  {
   "cell_type": "code",
   "execution_count": 49,
   "id": "82e369cf",
   "metadata": {},
   "outputs": [],
   "source": [
    "keys = list(d4.keys())\n",
    "d5 = {}\n",
    "\n",
    "for key in keys:\n",
    "    d5[key] = d4[key]/d[key]"
   ]
  },
  {
   "cell_type": "code",
   "execution_count": 50,
   "id": "a6fd68d2",
   "metadata": {},
   "outputs": [
    {
     "data": {
      "image/png": "[encoded data removed]",
      "text/plain": [
       "<Figure size 432x288 with 1 Axes>"
      ]
     },
     "metadata": {
      "needs_background": "light"
     },
     "output_type": "display_data"
    }
   ],
   "source": [
    "keys = list(d5.keys())\n",
    "values = list(d5.values())\n",
    "\n",
    "plt.xticks(rotation=60)\n",
    "plt.bar(keys, values, width=0.6)\n",
    "plt.show()"
   ]
  }
 ],
 "metadata": {
  "kernelspec": {
   "display_name": "Python 3 (ipykernel)",
   "language": "python",
   "name": "python3"
  },
  "language_info": {
   "codemirror_mode": {
    "name": "ipython",
    "version": 3
   },
   "file_extension": ".py",
   "mimetype": "text/x-python",
   "name": "python",
   "nbconvert_exporter": "python",
   "pygments_lexer": "ipython3",
   "version": "3.9.7"
  }
 },
 "nbformat": 4,
 "nbformat_minor": 5
}
