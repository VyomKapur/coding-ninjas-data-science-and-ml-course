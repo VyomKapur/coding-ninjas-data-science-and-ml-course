{
 "cells": [
  {
   "cell_type": "code",
   "execution_count": 3,
   "id": "3bb570be",
   "metadata": {},
   "outputs": [],
   "source": [
    "import pandas as pd\n",
    "import numpy as np"
   ]
  },
  {
   "cell_type": "code",
   "execution_count": 4,
   "id": "558a4c1c",
   "metadata": {},
   "outputs": [],
   "source": [
    "def feature_derivative(errors, feature, weight, l2_penalty):\n",
    "    derivative = 2*np.dot(errors, feature) + 2*(l2_penalty*weight)\n",
    "    return derivative"
   ]
  },
  {
   "cell_type": "code",
   "execution_count": 6,
   "id": "c9bbaf06",
   "metadata": {},
   "outputs": [],
   "source": [
    "def predict_output(features, weights):\n",
    "    return np.dot(features, weights)"
   ]
  },
  {
   "cell_type": "code",
   "execution_count": 21,
   "id": "a3a7a42d",
   "metadata": {},
   "outputs": [],
   "source": [
    "def ridge_regression(features, output, initial_weights, learning_rate, l2_penalty, max_iterations):\n",
    "    weights = np.array(initial_weights)\n",
    "    for i in range(0, max_iterations):\n",
    "        pred = predict_output(features, weights)\n",
    "        errors = pred - output\n",
    "        for j in range(len(weights)):\n",
    "            derivative = feature_derivation(errors, features[:, j], weights[j], l2_penalty)\n",
    "            weights[j] -= learning_rate*derivative\n",
    "    return weights"
   ]
  },
  {
   "cell_type": "code",
   "execution_count": 22,
   "id": "5de33612",
   "metadata": {},
   "outputs": [
    {
     "data": {
      "text/plain": [
       "array([[  0,   1,   2,   3,   4,   5,   6,   7,   8,   9,  10,  11,  12,\n",
       "         13,  14,  15,  16,  17,  18,  19,  20,  21,  22,  23,  24,  25,\n",
       "         26,  27,  28,  29,  30,  31,  32,  33,  34,  35,  36,  37,  38,\n",
       "         39,  40,  41,  42,  43,  44,  45,  46,  47,  48,  49,  50,  51,\n",
       "         52,  53,  54,  55,  56,  57,  58,  59,  60,  61,  62,  63,  64,\n",
       "         65,  66,  67,  68,  69,  70,  71,  72,  73,  74,  75,  76,  77,\n",
       "         78,  79,  80,  81,  82,  83,  84,  85,  86,  87,  88,  89,  90,\n",
       "         91,  92,  93,  94,  95,  96,  97,  98,  99],\n",
       "       [  1,   2,   3,   4,   5,   6,   7,   8,   9,  10,  11,  12,  13,\n",
       "         14,  15,  16,  17,  18,  19,  20,  21,  22,  23,  24,  25,  26,\n",
       "         27,  28,  29,  30,  31,  32,  33,  34,  35,  36,  37,  38,  39,\n",
       "         40,  41,  42,  43,  44,  45,  46,  47,  48,  49,  50,  51,  52,\n",
       "         53,  54,  55,  56,  57,  58,  59,  60,  61,  62,  63,  64,  65,\n",
       "         66,  67,  68,  69,  70,  71,  72,  73,  74,  75,  76,  77,  78,\n",
       "         79,  80,  81,  82,  83,  84,  85,  86,  87,  88,  89,  90,  91,\n",
       "         92,  93,  94,  95,  96,  97,  98,  99, 100],\n",
       "       [  2,   3,   4,   5,   6,   7,   8,   9,  10,  11,  12,  13,  14,\n",
       "         15,  16,  17,  18,  19,  20,  21,  22,  23,  24,  25,  26,  27,\n",
       "         28,  29,  30,  31,  32,  33,  34,  35,  36,  37,  38,  39,  40,\n",
       "         41,  42,  43,  44,  45,  46,  47,  48,  49,  50,  51,  52,  53,\n",
       "         54,  55,  56,  57,  58,  59,  60,  61,  62,  63,  64,  65,  66,\n",
       "         67,  68,  69,  70,  71,  72,  73,  74,  75,  76,  77,  78,  79,\n",
       "         80,  81,  82,  83,  84,  85,  86,  87,  88,  89,  90,  91,  92,\n",
       "         93,  94,  95,  96,  97,  98,  99, 100, 101],\n",
       "       [  3,   4,   5,   6,   7,   8,   9,  10,  11,  12,  13,  14,  15,\n",
       "         16,  17,  18,  19,  20,  21,  22,  23,  24,  25,  26,  27,  28,\n",
       "         29,  30,  31,  32,  33,  34,  35,  36,  37,  38,  39,  40,  41,\n",
       "         42,  43,  44,  45,  46,  47,  48,  49,  50,  51,  52,  53,  54,\n",
       "         55,  56,  57,  58,  59,  60,  61,  62,  63,  64,  65,  66,  67,\n",
       "         68,  69,  70,  71,  72,  73,  74,  75,  76,  77,  78,  79,  80,\n",
       "         81,  82,  83,  84,  85,  86,  87,  88,  89,  90,  91,  92,  93,\n",
       "         94,  95,  96,  97,  98,  99, 100, 101, 102],\n",
       "       [  4,   5,   6,   7,   8,   9,  10,  11,  12,  13,  14,  15,  16,\n",
       "         17,  18,  19,  20,  21,  22,  23,  24,  25,  26,  27,  28,  29,\n",
       "         30,  31,  32,  33,  34,  35,  36,  37,  38,  39,  40,  41,  42,\n",
       "         43,  44,  45,  46,  47,  48,  49,  50,  51,  52,  53,  54,  55,\n",
       "         56,  57,  58,  59,  60,  61,  62,  63,  64,  65,  66,  67,  68,\n",
       "         69,  70,  71,  72,  73,  74,  75,  76,  77,  78,  79,  80,  81,\n",
       "         82,  83,  84,  85,  86,  87,  88,  89,  90,  91,  92,  93,  94,\n",
       "         95,  96,  97,  98,  99, 100, 101, 102, 103],\n",
       "       [  5,   6,   7,   8,   9,  10,  11,  12,  13,  14,  15,  16,  17,\n",
       "         18,  19,  20,  21,  22,  23,  24,  25,  26,  27,  28,  29,  30,\n",
       "         31,  32,  33,  34,  35,  36,  37,  38,  39,  40,  41,  42,  43,\n",
       "         44,  45,  46,  47,  48,  49,  50,  51,  52,  53,  54,  55,  56,\n",
       "         57,  58,  59,  60,  61,  62,  63,  64,  65,  66,  67,  68,  69,\n",
       "         70,  71,  72,  73,  74,  75,  76,  77,  78,  79,  80,  81,  82,\n",
       "         83,  84,  85,  86,  87,  88,  89,  90,  91,  92,  93,  94,  95,\n",
       "         96,  97,  98,  99, 100, 101, 102, 103, 104],\n",
       "       [  6,   7,   8,   9,  10,  11,  12,  13,  14,  15,  16,  17,  18,\n",
       "         19,  20,  21,  22,  23,  24,  25,  26,  27,  28,  29,  30,  31,\n",
       "         32,  33,  34,  35,  36,  37,  38,  39,  40,  41,  42,  43,  44,\n",
       "         45,  46,  47,  48,  49,  50,  51,  52,  53,  54,  55,  56,  57,\n",
       "         58,  59,  60,  61,  62,  63,  64,  65,  66,  67,  68,  69,  70,\n",
       "         71,  72,  73,  74,  75,  76,  77,  78,  79,  80,  81,  82,  83,\n",
       "         84,  85,  86,  87,  88,  89,  90,  91,  92,  93,  94,  95,  96,\n",
       "         97,  98,  99, 100, 101, 102, 103, 104, 105]])"
      ]
     },
     "execution_count": 22,
     "metadata": {},
     "output_type": "execute_result"
    }
   ],
   "source": [
    "x1 = np.arange(100)\n",
    "features = []\n",
    "for i in range(0, 7):\n",
    "    features.append(x1+i)\n",
    "\n",
    "features = np.array(features)\n",
    "features"
   ]
  },
  {
   "cell_type": "code",
   "execution_count": 19,
   "id": "60600e61",
   "metadata": {},
   "outputs": [
    {
     "data": {
      "text/plain": [
       "array([-99, -98, -97, -96, -95, -94, -93, -92, -91, -90, -89, -88, -87,\n",
       "       -86, -85, -84, -83, -82, -81, -80, -79, -78, -77, -76, -75, -74,\n",
       "       -73, -72, -71, -70, -69, -68, -67, -66, -65, -64, -63, -62, -61,\n",
       "       -60, -59, -58, -57, -56, -55, -54, -53, -52, -51, -50, -49, -48,\n",
       "       -47, -46, -45, -44, -43, -42, -41, -40, -39, -38, -37, -36, -35,\n",
       "       -34, -33, -32, -31, -30, -29, -28, -27, -26, -25, -24, -23, -22,\n",
       "       -21, -20, -19, -18, -17, -16, -15, -14, -13, -12, -11, -10,  -9,\n",
       "        -8,  -7,  -6,  -5,  -4,  -3,  -2,  -1])"
      ]
     },
     "execution_count": 19,
     "metadata": {},
     "output_type": "execute_result"
    }
   ],
   "source": [
    "output = np.arange(-99, 0)\n",
    "output"
   ]
  },
  {
   "cell_type": "code",
   "execution_count": 23,
   "id": "e1edae0f",
   "metadata": {},
   "outputs": [
    {
     "ename": "ValueError",
     "evalue": "operands could not be broadcast together with shapes (7,100) (99,) ",
     "output_type": "error",
     "traceback": [
      "\u001b[1;31m---------------------------------------------------------------------------\u001b[0m",
      "\u001b[1;31mValueError\u001b[0m                                Traceback (most recent call last)",
      "\u001b[1;32m~\\AppData\\Local\\Temp/ipykernel_20408/3829021497.py\u001b[0m in \u001b[0;36m<module>\u001b[1;34m\u001b[0m\n\u001b[1;32m----> 1\u001b[1;33m \u001b[0mridge_regression\u001b[0m\u001b[1;33m(\u001b[0m\u001b[0mfeatures\u001b[0m\u001b[1;33m,\u001b[0m \u001b[0moutput\u001b[0m\u001b[1;33m,\u001b[0m \u001b[1;36m7\u001b[0m\u001b[1;33m,\u001b[0m \u001b[1;36m0.001\u001b[0m\u001b[1;33m,\u001b[0m \u001b[1;36m1\u001b[0m\u001b[1;33m,\u001b[0m \u001b[1;36m100\u001b[0m\u001b[1;33m)\u001b[0m\u001b[1;33m\u001b[0m\u001b[1;33m\u001b[0m\u001b[0m\n\u001b[0m",
      "\u001b[1;32m~\\AppData\\Local\\Temp/ipykernel_20408/3683102888.py\u001b[0m in \u001b[0;36mridge_regression\u001b[1;34m(features, output, initial_weights, learning_rate, l2_penalty, max_iterations)\u001b[0m\n\u001b[0;32m      3\u001b[0m     \u001b[1;32mfor\u001b[0m \u001b[0mi\u001b[0m \u001b[1;32min\u001b[0m \u001b[0mrange\u001b[0m\u001b[1;33m(\u001b[0m\u001b[1;36m0\u001b[0m\u001b[1;33m,\u001b[0m \u001b[0mmax_iterations\u001b[0m\u001b[1;33m)\u001b[0m\u001b[1;33m:\u001b[0m\u001b[1;33m\u001b[0m\u001b[1;33m\u001b[0m\u001b[0m\n\u001b[0;32m      4\u001b[0m         \u001b[0mpred\u001b[0m \u001b[1;33m=\u001b[0m \u001b[0mpredict_output\u001b[0m\u001b[1;33m(\u001b[0m\u001b[0mfeatures\u001b[0m\u001b[1;33m,\u001b[0m \u001b[0mweights\u001b[0m\u001b[1;33m)\u001b[0m\u001b[1;33m\u001b[0m\u001b[1;33m\u001b[0m\u001b[0m\n\u001b[1;32m----> 5\u001b[1;33m         \u001b[0merrors\u001b[0m \u001b[1;33m=\u001b[0m \u001b[0mpred\u001b[0m \u001b[1;33m-\u001b[0m \u001b[0moutput\u001b[0m\u001b[1;33m\u001b[0m\u001b[1;33m\u001b[0m\u001b[0m\n\u001b[0m\u001b[0;32m      6\u001b[0m         \u001b[1;32mfor\u001b[0m \u001b[0mj\u001b[0m \u001b[1;32min\u001b[0m \u001b[0mrange\u001b[0m\u001b[1;33m(\u001b[0m\u001b[0mlen\u001b[0m\u001b[1;33m(\u001b[0m\u001b[0mweights\u001b[0m\u001b[1;33m)\u001b[0m\u001b[1;33m)\u001b[0m\u001b[1;33m:\u001b[0m\u001b[1;33m\u001b[0m\u001b[1;33m\u001b[0m\u001b[0m\n\u001b[0;32m      7\u001b[0m             \u001b[0mderivative\u001b[0m \u001b[1;33m=\u001b[0m \u001b[0mfeature_derivation\u001b[0m\u001b[1;33m(\u001b[0m\u001b[0merrors\u001b[0m\u001b[1;33m,\u001b[0m \u001b[0mfeatures\u001b[0m\u001b[1;33m[\u001b[0m\u001b[1;33m:\u001b[0m\u001b[1;33m,\u001b[0m \u001b[0mj\u001b[0m\u001b[1;33m]\u001b[0m\u001b[1;33m,\u001b[0m \u001b[0mweights\u001b[0m\u001b[1;33m[\u001b[0m\u001b[0mj\u001b[0m\u001b[1;33m]\u001b[0m\u001b[1;33m,\u001b[0m \u001b[0ml2_penalty\u001b[0m\u001b[1;33m)\u001b[0m\u001b[1;33m\u001b[0m\u001b[1;33m\u001b[0m\u001b[0m\n",
      "\u001b[1;31mValueError\u001b[0m: operands could not be broadcast together with shapes (7,100) (99,) "
     ]
    }
   ],
   "source": [
    "ridge_regression(features, output, 7, 0.001, 1, 100)"
   ]
  },
  {
   "cell_type": "code",
   "execution_count": null,
   "id": "472c391a",
   "metadata": {},
   "outputs": [],
   "source": []
  }
 ],
 "metadata": {
  "kernelspec": {
   "display_name": "Python 3 (ipykernel)",
   "language": "python",
   "name": "python3"
  },
  "language_info": {
   "codemirror_mode": {
    "name": "ipython",
    "version": 3
   },
   "file_extension": ".py",
   "mimetype": "text/x-python",
   "name": "python",
   "nbconvert_exporter": "python",
   "pygments_lexer": "ipython3",
   "version": "3.9.7"
  }
 },
 "nbformat": 4,
 "nbformat_minor": 5
}
