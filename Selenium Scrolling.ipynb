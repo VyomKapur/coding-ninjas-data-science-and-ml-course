{
 "cells": [
  {
   "cell_type": "code",
   "execution_count": 1,
   "id": "ffcb4521",
   "metadata": {},
   "outputs": [
    {
     "name": "stdout",
     "output_type": "stream",
     "text": [
      "\n"
     ]
    },
    {
     "name": "stderr",
     "output_type": "stream",
     "text": [
      "C:\\Users\\Vyom\\AppData\\Local\\Temp/ipykernel_4128/2338598275.py:5: DeprecationWarning: executable_path has been deprecated, please pass in a Service object\n",
      "  driver = webdriver.Chrome(ChromeDriverManager().install())\n"
     ]
    }
   ],
   "source": [
    "from selenium import webdriver\n",
    "from webdriver_manager.chrome import ChromeDriverManager\n",
    "from selenium.webdriver.common.by import By\n",
    "from selenium.webdriver.support.select import Select\n",
    "driver = webdriver.Chrome(ChromeDriverManager().install())"
   ]
  },
  {
   "cell_type": "code",
   "execution_count": 2,
   "id": "937fb81b",
   "metadata": {},
   "outputs": [],
   "source": [
    "driver.get('https://twitter.com/')"
   ]
  },
  {
   "cell_type": "code",
   "execution_count": 3,
   "id": "8a197286",
   "metadata": {},
   "outputs": [
    {
     "data": {
      "text/plain": [
       "<selenium.webdriver.remote.webelement.WebElement (session=\"a8c6a5822d46d97e0c13ca5d9da3386f\", element=\"e766ab66-11a2-4be1-b6c6-b86dea7f21f3\")>"
      ]
     },
     "execution_count": 3,
     "metadata": {},
     "output_type": "execute_result"
    }
   ],
   "source": [
    "drop = driver.find_element('tag name', 'select')\n",
    "drop"
   ]
  },
  {
   "cell_type": "code",
   "execution_count": 4,
   "id": "0eea5cde",
   "metadata": {},
   "outputs": [
    {
     "data": {
      "text/plain": [
       "[<selenium.webdriver.remote.webelement.WebElement (session=\"a8c6a5822d46d97e0c13ca5d9da3386f\", element=\"bebbef01-2c19-490d-8f0f-c77dd22015ff\")>,\n",
       " <selenium.webdriver.remote.webelement.WebElement (session=\"a8c6a5822d46d97e0c13ca5d9da3386f\", element=\"b3180963-cbfa-40e4-a139-c31e7a4b70d8\")>,\n",
       " <selenium.webdriver.remote.webelement.WebElement (session=\"a8c6a5822d46d97e0c13ca5d9da3386f\", element=\"83ce528c-ac7b-4e96-a9cf-380e6c9e47c7\")>,\n",
       " <selenium.webdriver.remote.webelement.WebElement (session=\"a8c6a5822d46d97e0c13ca5d9da3386f\", element=\"62d0b11d-2a25-4e4a-9865-0fb2d446d4b2\")>]"
      ]
     },
     "execution_count": 4,
     "metadata": {},
     "output_type": "execute_result"
    }
   ],
   "source": [
    "s = Select(drop)\n",
    "s.options"
   ]
  },
  {
   "cell_type": "code",
   "execution_count": 6,
   "id": "6504b28d",
   "metadata": {},
   "outputs": [
    {
     "name": "stdout",
     "output_type": "stream",
     "text": [
      "Sydney\n",
      "Melbourne\n",
      "Cromwell\n",
      "Queenstown\n"
     ]
    }
   ],
   "source": [
    "for i in s.options:\n",
    "    print(i.get_attribute('innerHTML'))"
   ]
  },
  {
   "cell_type": "code",
   "execution_count": 59,
   "id": "e0e61d8c",
   "metadata": {},
   "outputs": [],
   "source": [
    "driver.get('https://www.quora.com/search?q=Avengers&type=question')"
   ]
  },
  {
   "cell_type": "code",
   "execution_count": null,
   "id": "6178f5b3",
   "metadata": {},
   "outputs": [],
   "source": [
    "questions = []\n",
    "while len(questions) < 20:\n",
    "    questions = driver.find_elements(By.XPATH,\"//div[@class='q-box qu-borderBottom qu-p--medium']\")\n",
    "    driver.execute_script('window.scrollBy(0, 1000);')\n",
    "    print(len(questions))"
   ]
  },
  {
   "cell_type": "code",
   "execution_count": null,
   "id": "48e30468",
   "metadata": {},
   "outputs": [],
   "source": [
    "for question in questions:\n",
    "    print(question.text)\n",
    "\n",
    "len(questions)"
   ]
  },
  {
   "cell_type": "code",
   "execution_count": null,
   "id": "02790634",
   "metadata": {},
   "outputs": [],
   "source": []
  }
 ],
 "metadata": {
  "kernelspec": {
   "display_name": "Python 3 (ipykernel)",
   "language": "python",
   "name": "python3"
  },
  "language_info": {
   "codemirror_mode": {
    "name": "ipython",
    "version": 3
   },
   "file_extension": ".py",
   "mimetype": "text/x-python",
   "name": "python",
   "nbconvert_exporter": "python",
   "pygments_lexer": "ipython3",
   "version": "3.9.7"
  }
 },
 "nbformat": 4,
 "nbformat_minor": 5
}
