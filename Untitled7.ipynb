{
 "cells": [
  {
   "cell_type": "code",
   "execution_count": 26,
   "id": "2a752203",
   "metadata": {},
   "outputs": [
    {
     "name": "stdout",
     "output_type": "stream",
     "text": [
      "The Shawshank Redemption - Drama, Crime, \n",
      "The Godfather - Drama, Crime, \n",
      "Schindler's List - Drama, History, War, \n",
      "The Godfather Part II - Drama, Crime, \n",
      "12 Angry Men - Drama, \n",
      "Gabriel's Inferno - Romance, \n",
      "Gabriel's Inferno: Part II - Romance, \n",
      "The Green Mile - Fantasy, Drama, Crime, \n",
      "The Dark Knight - Drama, Action, Crime, Thriller, \n",
      "Pulp Fiction - Thriller, Crime, \n"
     ]
    }
   ],
   "source": [
    "import requests, json\n",
    "p = requests.get('https://api.themoviedb.org/3/movie/top_rated', params={'api_key': 'd01ca9dc3e86ed3cac80146a6a3d6789', 'page': 1, 'language': 'en-US'})\n",
    "p.json()\n",
    "m_id = []\n",
    "\n",
    "l = requests.get('https://api.themoviedb.org/3/genre/movie/list', params={'api_key': 'd01ca9dc3e86ed3cac80146a6a3d6789'})\n",
    "l.json()\n",
    "d = l.json()['genres']\n",
    "d1 = dict()\n",
    "for k in d:\n",
    "    d1[k['id']] = k['name']\n",
    "    \n",
    "d1\n",
    "ctr = 0\n",
    "for i in p.json()['results']:\n",
    "    if ctr == 10:\n",
    "        break\n",
    "    if i['original_language']=='en':\n",
    "        ctr+= 1\n",
    "        print(i['original_title'], end=\" - \")\n",
    "        for j in i['genre_ids']:\n",
    "            print(d1[j], end=\", \")\n",
    "        print()"
   ]
  },
  {
   "cell_type": "code",
   "execution_count": 24,
   "id": "b7f7fb1c",
   "metadata": {},
   "outputs": [
    {
     "data": {
      "text/plain": [
       "{28: 'Action',\n",
       " 12: 'Adventure',\n",
       " 16: 'Animation',\n",
       " 35: 'Comedy',\n",
       " 80: 'Crime',\n",
       " 99: 'Documentary',\n",
       " 18: 'Drama',\n",
       " 10751: 'Family',\n",
       " 14: 'Fantasy',\n",
       " 36: 'History',\n",
       " 27: 'Horror',\n",
       " 10402: 'Music',\n",
       " 9648: 'Mystery',\n",
       " 10749: 'Romance',\n",
       " 878: 'Science Fiction',\n",
       " 10770: 'TV Movie',\n",
       " 53: 'Thriller',\n",
       " 10752: 'War',\n",
       " 37: 'Western'}"
      ]
     },
     "execution_count": 24,
     "metadata": {},
     "output_type": "execute_result"
    }
   ],
   "source": [
    "l = requests.get('https://api.themoviedb.org/3/genre/movie/list', params={'api_key': 'd01ca9dc3e86ed3cac80146a6a3d6789'})\n",
    "l.json()\n",
    "d = l.json()['genres']\n",
    "d1 = dict()\n",
    "for k in d: \n",
    "    d1[k['id']] = k['name']\n",
    "    \n",
    "d1"
   ]
  },
  {
   "cell_type": "code",
   "execution_count": 27,
   "id": "82fc11c5",
   "metadata": {},
   "outputs": [
    {
     "data": {
      "text/plain": [
       "{'page': 1,\n",
       " 'results': [{'adult': False,\n",
       "   'backdrop_path': '/s3TBrRGB1iav7gFOCNx3H31MoES.jpg',\n",
       "   'genre_ids': [28, 878, 12],\n",
       "   'id': 27205,\n",
       "   'original_language': 'en',\n",
       "   'original_title': 'Inception',\n",
       "   'overview': 'Cobb, a skilled thief who commits corporate espionage by infiltrating the subconscious of his targets is offered a chance to regain his old life as payment for a task considered to be impossible: \"inception\", the implantation of another person\\'s idea into a target\\'s subconscious.',\n",
       "   'popularity': 120.53,\n",
       "   'poster_path': '/8IB2e4r4oVhHnANbnm7O3Tj6tF8.jpg',\n",
       "   'release_date': '2010-07-15',\n",
       "   'title': 'Inception',\n",
       "   'video': False,\n",
       "   'vote_average': 8.4,\n",
       "   'vote_count': 32144},\n",
       "  {'adult': False,\n",
       "   'backdrop_path': None,\n",
       "   'genre_ids': [16, 28, 53, 878],\n",
       "   'id': 64956,\n",
       "   'original_language': 'en',\n",
       "   'original_title': 'Inception: The Cobol Job',\n",
       "   'overview': \"The Cobol Job is a fourteen-minute animated prequel to Christopher Nolan’s award-winning movie: Inception, detailing the heist on Mr. Kaneda's mind by Nash, Cobb, Arthur, and several Cobol Engineering thugs.\",\n",
       "   'popularity': 9.798,\n",
       "   'poster_path': '/sNxqwtyHMNQwKWoFYDqcYTui5Ok.jpg',\n",
       "   'release_date': '2010-12-07',\n",
       "   'title': 'Inception: The Cobol Job',\n",
       "   'video': False,\n",
       "   'vote_average': 7.3,\n",
       "   'vote_count': 285},\n",
       "  {'adult': False,\n",
       "   'backdrop_path': None,\n",
       "   'genre_ids': [10402],\n",
       "   'id': 973484,\n",
       "   'original_language': 'en',\n",
       "   'original_title': 'Inception: Music from the Motion Picture',\n",
       "   'overview': 'The Special Features Blu-ray disc contains a lossless DTS-HD MA 5.1 surround mix of the Inception soundtrack.',\n",
       "   'popularity': 2.848,\n",
       "   'poster_path': '/7uM4DyRVAcgagvhZoWrkrqMPbqV.jpg',\n",
       "   'release_date': '2010-12-07',\n",
       "   'title': 'Inception: Music from the Motion Picture',\n",
       "   'video': True,\n",
       "   'vote_average': 0,\n",
       "   'vote_count': 0},\n",
       "  {'adult': False,\n",
       "   'backdrop_path': None,\n",
       "   'genre_ids': [35],\n",
       "   'id': 542438,\n",
       "   'original_language': 'en',\n",
       "   'original_title': 'Bikini Inception',\n",
       "   'overview': \"Two flunky Janitors in an Arctic Lab perform unauthorized experiments transporting them to a beach dream world in Malibu California w/50 beautiful young girls and a female Brazilian PhD Student wearing only a bra and panties. A '67 Muscle car races chases horses guns fights surfing, sumo wrestler, wolf monster, underwater scenes tons of gorgeous models. Sexy sci-fi fun.\",\n",
       "   'popularity': 1.211,\n",
       "   'poster_path': '/mNASlEOFX2c9upxaSbgeKFvIr1L.jpg',\n",
       "   'release_date': '2015-05-19',\n",
       "   'title': 'Bikini Inception',\n",
       "   'video': False,\n",
       "   'vote_average': 7,\n",
       "   'vote_count': 1},\n",
       "  {'adult': False,\n",
       "   'backdrop_path': None,\n",
       "   'genre_ids': [],\n",
       "   'id': 250845,\n",
       "   'original_language': 'en',\n",
       "   'original_title': 'WWA The Inception',\n",
       "   'overview': 'The first World Wrestling Allstars pay per view, live from Sydney, Australia! A tournament titled \"7 Deadly Sins\", each round having a stipulation match, the winner will be crowned the first ever WWA Heavyweight Champion! Wrestlers such as Jeff Jarrett, Road Dogg, Jerry Lawler all compete in the tournament, with the WWA Commissioner, Bret Hart not too far away to make sure nothing gets to far out of hand!',\n",
       "   'popularity': 1.4,\n",
       "   'poster_path': None,\n",
       "   'release_date': '2001-10-26',\n",
       "   'title': 'WWA The Inception',\n",
       "   'video': True,\n",
       "   'vote_average': 3.1,\n",
       "   'vote_count': 5},\n",
       "  {'adult': False,\n",
       "   'backdrop_path': None,\n",
       "   'genre_ids': [],\n",
       "   'id': 957443,\n",
       "   'original_language': 'en',\n",
       "   'original_title': 'Inception: Jump Right Into the Action',\n",
       "   'overview': 'Inception: Making of. Join filmmaker Christopher Nolan and his cast and crew as they reveal the secrets of Inception, its development, characters, performances, story and jaw-dropping special effects in this solid 14-segments piece.',\n",
       "   'popularity': 0.6,\n",
       "   'poster_path': None,\n",
       "   'release_date': '',\n",
       "   'title': 'Inception: Jump Right Into the Action',\n",
       "   'video': True,\n",
       "   'vote_average': 0,\n",
       "   'vote_count': 0},\n",
       "  {'adult': False,\n",
       "   'backdrop_path': '/JeGkRdNsOuMrgwBdtB0hp763MU.jpg',\n",
       "   'genre_ids': [18, 53],\n",
       "   'id': 613092,\n",
       "   'original_language': 'es',\n",
       "   'original_title': 'El crack cero',\n",
       "   'overview': 'Madrid, Spain, 1975; shortly after the end of the Franco dictatorship. Six months after the mysterious death of his lover, a prestigious tailor, a married woman visits the office of the young Germán Areta, a former police officer turned private detective, to request his professional services.',\n",
       "   'popularity': 4.219,\n",
       "   'poster_path': '/kzgPu2CMxBr4YZZxC1Off4cUfR9.jpg',\n",
       "   'release_date': '2019-10-04',\n",
       "   'title': 'The Crack: Inception',\n",
       "   'video': False,\n",
       "   'vote_average': 7,\n",
       "   'vote_count': 28},\n",
       "  {'adult': False,\n",
       "   'backdrop_path': '/vYJRSrZmUcL7FPhOeCk3n6rFRRp.jpg',\n",
       "   'genre_ids': [18, 9648],\n",
       "   'id': 846190,\n",
       "   'original_language': 'fa',\n",
       "   'original_title': 'Aghaz',\n",
       "   'overview': 'Young man (Erfan) wants to do something important,It has a lot of risk for him But he must make a decision,Though everyone around them opposes doing so,The boy decides that...',\n",
       "   'popularity': 1.176,\n",
       "   'poster_path': '/jYxQqa3ZaXhhG89YEUZkxUfKFdm.jpg',\n",
       "   'release_date': '2014-02-12',\n",
       "   'title': 'Inception',\n",
       "   'video': False,\n",
       "   'vote_average': 10,\n",
       "   'vote_count': 2},\n",
       "  {'adult': False,\n",
       "   'backdrop_path': None,\n",
       "   'genre_ids': [],\n",
       "   'id': 350632,\n",
       "   'original_language': 'en',\n",
       "   'original_title': 'Nātyārambham',\n",
       "   'overview': 'On certain Adavus: the basic steps in Bharatanatyam. The first part covers Tatta Adavu, Natta Adavu, Visharu Adavu , Tatti Metti Adavu and Teermanam Adavu.',\n",
       "   'popularity': 0.6,\n",
       "   'poster_path': None,\n",
       "   'title': 'The Inception of Dramatic Representation',\n",
       "   'video': True,\n",
       "   'vote_average': 5.8,\n",
       "   'vote_count': 3}],\n",
       " 'total_pages': 1,\n",
       " 'total_results': 9}"
      ]
     },
     "execution_count": 27,
     "metadata": {},
     "output_type": "execute_result"
    }
   ],
   "source": [
    "p = requests.get('https://api.themoviedb.org/3/search/movie',  params={'api_key': 'd01ca9dc3e86ed3cac80146a6a3d6789','query': 'inception'})\n",
    "p.json()"
   ]
  },
  {
   "cell_type": "code",
   "execution_count": 36,
   "id": "a84807bb",
   "metadata": {},
   "outputs": [
    {
     "name": "stdout",
     "output_type": "stream",
     "text": [
      "Grease 2\n",
      "Woodstock\n",
      "Get Rich or Die Tryin'\n",
      "The Rocker\n",
      "Honey\n"
     ]
    }
   ],
   "source": [
    "import requests, json\n",
    "\n",
    "url = 'https://api.themoviedb.org/3/movie/973484/similar'\n",
    "\n",
    "p = requests.get(url, params={'api_key': 'd01ca9dc3e86ed3cac80146a6a3d6789','page': 1, 'language': 'en-US'})\n",
    "\n",
    "ctr = 0\n",
    "for i in p.json()['results']:\n",
    "    print(i['title'])\n",
    "    ctr += 1\n",
    "    if ctr == 5:\n",
    "        break"
   ]
  },
  {
   "cell_type": "code",
   "execution_count": 49,
   "id": "b1f3163b",
   "metadata": {},
   "outputs": [
    {
     "ename": "AttributeError",
     "evalue": "'NoneType' object has no attribute 'text'",
     "output_type": "error",
     "traceback": [
      "\u001b[1;31m---------------------------------------------------------------------------\u001b[0m",
      "\u001b[1;31mAttributeError\u001b[0m                            Traceback (most recent call last)",
      "\u001b[1;32m~\\AppData\\Local\\Temp/ipykernel_18136/2063573318.py\u001b[0m in \u001b[0;36m<module>\u001b[1;34m\u001b[0m\n\u001b[0;32m     27\u001b[0m     \u001b[0mresponse\u001b[0m \u001b[1;33m=\u001b[0m \u001b[0mrequests\u001b[0m\u001b[1;33m.\u001b[0m\u001b[0mget\u001b[0m\u001b[1;33m(\u001b[0m\u001b[0murl\u001b[0m\u001b[1;33m)\u001b[0m\u001b[1;33m\u001b[0m\u001b[1;33m\u001b[0m\u001b[0m\n\u001b[0;32m     28\u001b[0m     \u001b[0mdata\u001b[0m \u001b[1;33m=\u001b[0m \u001b[0mBeautifulSoup\u001b[0m\u001b[1;33m(\u001b[0m\u001b[0mresponse\u001b[0m\u001b[1;33m.\u001b[0m\u001b[0mtext\u001b[0m\u001b[1;33m,\u001b[0m \u001b[1;34m'html.parser'\u001b[0m\u001b[1;33m)\u001b[0m\u001b[1;33m\u001b[0m\u001b[1;33m\u001b[0m\u001b[0m\n\u001b[1;32m---> 29\u001b[1;33m     \u001b[0md\u001b[0m\u001b[1;33m[\u001b[0m\u001b[0mdata\u001b[0m\u001b[1;33m.\u001b[0m\u001b[0mfind\u001b[0m\u001b[1;33m(\u001b[0m\u001b[0mclass_\u001b[0m\u001b[1;33m=\u001b[0m\u001b[1;34m\"author-title\"\u001b[0m\u001b[1;33m)\u001b[0m\u001b[1;33m.\u001b[0m\u001b[0mspan\u001b[0m\u001b[1;33m.\u001b[0m\u001b[0mtext\u001b[0m\u001b[1;33m]\u001b[0m \u001b[1;33m=\u001b[0m \u001b[0mdata\u001b[0m\u001b[1;33m.\u001b[0m\u001b[0mfind\u001b[0m\u001b[1;33m(\u001b[0m\u001b[0mclass_\u001b[0m\u001b[1;33m=\u001b[0m\u001b[1;34m\"author-born-date\"\u001b[0m\u001b[1;33m)\u001b[0m\u001b[1;33m.\u001b[0m\u001b[0mspan\u001b[0m\u001b[1;33m.\u001b[0m\u001b[0mtext\u001b[0m\u001b[1;33m\u001b[0m\u001b[1;33m\u001b[0m\u001b[0m\n\u001b[0m\u001b[0;32m     30\u001b[0m \u001b[1;33m\u001b[0m\u001b[0m\n\u001b[0;32m     31\u001b[0m \u001b[0mprint\u001b[0m\u001b[1;33m(\u001b[0m\u001b[0md\u001b[0m\u001b[1;33m)\u001b[0m\u001b[1;33m\u001b[0m\u001b[1;33m\u001b[0m\u001b[0m\n",
      "\u001b[1;31mAttributeError\u001b[0m: 'NoneType' object has no attribute 'text'"
     ]
    }
   ],
   "source": [
    "import requests\n",
    "import numpy as np\n",
    "from bs4 import BeautifulSoup\n",
    "\n",
    "base_url = 'http://quotes.toscrape.com/'\n",
    "curr_url = 'http://quotes.toscrape.com/page/1/'\n",
    "\n",
    "response = requests.get(curr_url)\n",
    "\n",
    "urls = []\n",
    "while response.status_code == 200:\n",
    "    data = BeautifulSoup(response.text, 'html.parser')\n",
    "    authors = data.find_all(class_='author')\n",
    "    for author in authors:\n",
    "        if author.text[0] == 'J':\n",
    "            temp_url = 'http://quotes.toscrape.com/author/'+author.text.replace('.', '').replace(' ', '-')\n",
    "            urls.append(temp_url)\n",
    "    try:\n",
    "        next_url = data.find(class_='next').a['href']\n",
    "        curr_url = base_url+next_url\n",
    "        response = requests.get(curr_url)\n",
    "    except:\n",
    "        break\n",
    "d = {}\n",
    "for url in urls:\n",
    "    response = requests.get(url)\n",
    "    data = BeautifulSoup(response.text, 'html.parser')\n",
    "    d[data.find(\"h3\").get_text().split('\\n')[0]] = data.find(class_=\"author-born-date\").get_text()\n",
    "\n",
    "print(d)"
   ]
  },
  {
   "cell_type": "code",
   "execution_count": 67,
   "id": "f78602d9",
   "metadata": {},
   "outputs": [
    {
     "ename": "AttributeError",
     "evalue": "'dict' object has no attribute 'remove'",
     "output_type": "error",
     "traceback": [
      "\u001b[1;31m---------------------------------------------------------------------------\u001b[0m",
      "\u001b[1;31mAttributeError\u001b[0m                            Traceback (most recent call last)",
      "\u001b[1;32m~\\AppData\\Local\\Temp/ipykernel_18136/1482341303.py\u001b[0m in \u001b[0;36m<module>\u001b[1;34m\u001b[0m\n\u001b[1;32m----> 1\u001b[1;33m \u001b[0md\u001b[0m\u001b[1;33m.\u001b[0m\u001b[0mremove\u001b[0m\u001b[1;33m(\u001b[0m\u001b[1;33m)\u001b[0m\u001b[1;33m\u001b[0m\u001b[1;33m\u001b[0m\u001b[0m\n\u001b[0m",
      "\u001b[1;31mAttributeError\u001b[0m: 'dict' object has no attribute 'remove'"
     ]
    }
   ],
   "source": [
    "d."
   ]
  },
  {
   "cell_type": "code",
   "execution_count": 66,
   "id": "7b1c3e40",
   "metadata": {},
   "outputs": [
    {
     "data": {
      "text/plain": [
       "['http://quotes.toscrape.com/author/JK-Rowling',\n",
       " 'http://quotes.toscrape.com/author/Jane-Austen',\n",
       " 'http://quotes.toscrape.com/author/JK-Rowling',\n",
       " 'http://quotes.toscrape.com/author/Jim-Henson',\n",
       " 'http://quotes.toscrape.com/author/JK-Rowling',\n",
       " 'http://quotes.toscrape.com/author/JK-Rowling',\n",
       " 'http://quotes.toscrape.com/author/JK-Rowling',\n",
       " 'http://quotes.toscrape.com/author/Jorge-Luis-Borges',\n",
       " 'http://quotes.toscrape.com/author/JK-Rowling',\n",
       " 'http://quotes.toscrape.com/author/James-Baldwin',\n",
       " 'http://quotes.toscrape.com/author/Jane-Austen',\n",
       " 'http://quotes.toscrape.com/author/JRR-Tolkien',\n",
       " 'http://quotes.toscrape.com/author/JK-Rowling',\n",
       " 'http://quotes.toscrape.com/author/JD-Salinger',\n",
       " 'http://quotes.toscrape.com/author/John-Lennon',\n",
       " 'http://quotes.toscrape.com/author/Jane-Austen',\n",
       " 'http://quotes.toscrape.com/author/JK-Rowling',\n",
       " 'http://quotes.toscrape.com/author/Jane-Austen',\n",
       " 'http://quotes.toscrape.com/author/Jane-Austen',\n",
       " 'http://quotes.toscrape.com/author/JK-Rowling',\n",
       " 'http://quotes.toscrape.com/author/Jimi-Hendrix',\n",
       " 'http://quotes.toscrape.com/author/JM-Barrie']"
      ]
     },
     "execution_count": 66,
     "metadata": {},
     "output_type": "execute_result"
    }
   ],
   "source": [
    "urls"
   ]
  },
  {
   "cell_type": "code",
   "execution_count": null,
   "id": "42f200a9",
   "metadata": {},
   "outputs": [],
   "source": []
  }
 ],
 "metadata": {
  "kernelspec": {
   "display_name": "Python 3 (ipykernel)",
   "language": "python",
   "name": "python3"
  },
  "language_info": {
   "codemirror_mode": {
    "name": "ipython",
    "version": 3
   },
   "file_extension": ".py",
   "mimetype": "text/x-python",
   "name": "python",
   "nbconvert_exporter": "python",
   "pygments_lexer": "ipython3",
   "version": "3.9.7"
  }
 },
 "nbformat": 4,
 "nbformat_minor": 5
}
